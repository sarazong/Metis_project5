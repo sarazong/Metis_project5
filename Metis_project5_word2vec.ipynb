{
 "cells": [
  {
   "cell_type": "code",
   "execution_count": 1,
   "id": "regular-dialogue",
   "metadata": {},
   "outputs": [],
   "source": [
    "import numpy as np, pandas as pd\n",
    "import matplotlib.pyplot as plt\n",
    "import time, re\n",
    "from nltk.tokenize import word_tokenize\n",
    "import gensim\n",
    "from gensim.test.utils import datapath, get_tmpfile\n",
    "from gensim.scripts.glove2word2vec import glove2word2vec\n",
    "\n",
    "from sklearn.metrics import pairwise_distances\n",
    "from PIL import Image"
   ]
  },
  {
   "cell_type": "markdown",
   "id": "floral-hayes",
   "metadata": {},
   "source": [
    "### Create dataframe for streamlit:"
   ]
  },
  {
   "cell_type": "code",
   "execution_count": 2,
   "id": "surprised-spirituality",
   "metadata": {
    "scrolled": true
   },
   "outputs": [
    {
     "data": {
      "text/plain": [
       "(3017, 24)"
      ]
     },
     "execution_count": 2,
     "metadata": {},
     "output_type": "execute_result"
    }
   ],
   "source": [
    "df = pd.read_pickle(\"data/df_with_topic_vecs.pkl\")\n",
    "df.head(3)\n",
    "df.shape"
   ]
  },
  {
   "cell_type": "code",
   "execution_count": 3,
   "id": "further-oracle",
   "metadata": {
    "scrolled": true
   },
   "outputs": [
    {
     "data": {
      "text/plain": [
       "Index(['title', 'author', 'rating', 'num_rating', 'review', 'page', 'year',\n",
       "       'publisher', 'summary', 'language', 'clean_summary', 'topic_1',\n",
       "       'topic_2', 'topic_3', 'topic_4', 'topic_5', 'topic_6', 'topic_7',\n",
       "       'topic_8', 'topic_9', 'topic_10', 'topic_11', 'topic_12', 'topic'],\n",
       "      dtype='object')"
      ]
     },
     "execution_count": 3,
     "metadata": {},
     "output_type": "execute_result"
    }
   ],
   "source": [
    "df.columns"
   ]
  },
  {
   "cell_type": "code",
   "execution_count": 4,
   "id": "toxic-national",
   "metadata": {},
   "outputs": [],
   "source": [
    "data_sl = df.loc[:, [\"title\", \"author\", \"rating\", \"num_rating\", \"review\", \"page\", \"year\", \"publisher\", \"summary\", \"topic\"]]"
   ]
  },
  {
   "cell_type": "code",
   "execution_count": 5,
   "id": "seven-celtic",
   "metadata": {},
   "outputs": [],
   "source": [
    "data_sl.rename(columns={\"review\":\"num_review\", \"year\":\"year_published\"}, inplace=True)\n",
    "\n",
    "# make title column in df lower case to pull out summary\n",
    "data_sl[\"title\"] = data_sl[\"title\"].apply(lambda x: x.lower())"
   ]
  },
  {
   "cell_type": "code",
   "execution_count": 6,
   "id": "french-librarian",
   "metadata": {},
   "outputs": [],
   "source": [
    "topics = [\"biography\", \"business\", \"science\", \"gender\", \"religion\", \"race\",\n",
    "          \"health\", \"world war II\", \"relationship\", \"art\", \"family\", \"british monarch\"]\n",
    "for i in range(1, 13):\n",
    "    data_sl.loc[data_sl.topic == i, \"topic\"] = topics[i-1]"
   ]
  },
  {
   "cell_type": "code",
   "execution_count": 7,
   "id": "broke-double",
   "metadata": {
    "scrolled": true
   },
   "outputs": [
    {
     "data": {
      "text/html": [
       "<div>\n",
       "<style scoped>\n",
       "    .dataframe tbody tr th:only-of-type {\n",
       "        vertical-align: middle;\n",
       "    }\n",
       "\n",
       "    .dataframe tbody tr th {\n",
       "        vertical-align: top;\n",
       "    }\n",
       "\n",
       "    .dataframe thead th {\n",
       "        text-align: right;\n",
       "    }\n",
       "</style>\n",
       "<table border=\"1\" class=\"dataframe\">\n",
       "  <thead>\n",
       "    <tr style=\"text-align: right;\">\n",
       "      <th></th>\n",
       "      <th>title</th>\n",
       "      <th>author</th>\n",
       "      <th>rating</th>\n",
       "      <th>num_rating</th>\n",
       "      <th>num_review</th>\n",
       "      <th>page</th>\n",
       "      <th>year_published</th>\n",
       "      <th>publisher</th>\n",
       "      <th>summary</th>\n",
       "      <th>topic</th>\n",
       "    </tr>\n",
       "  </thead>\n",
       "  <tbody>\n",
       "    <tr>\n",
       "      <th>0</th>\n",
       "      <td>the diary of a young girl</td>\n",
       "      <td>Anne Frank</td>\n",
       "      <td>4.16</td>\n",
       "      <td>2887098</td>\n",
       "      <td>30439</td>\n",
       "      <td>283.0</td>\n",
       "      <td>July 1993</td>\n",
       "      <td>by Bantam</td>\n",
       "      <td>Discovered in the attic in which she spent the...</td>\n",
       "      <td>family</td>\n",
       "    </tr>\n",
       "    <tr>\n",
       "      <th>1</th>\n",
       "      <td>night</td>\n",
       "      <td>Elie Wiesel</td>\n",
       "      <td>4.34</td>\n",
       "      <td>1008920</td>\n",
       "      <td>30066</td>\n",
       "      <td>115.0</td>\n",
       "      <td>January 16th 2006</td>\n",
       "      <td>by Hill &amp; Wang</td>\n",
       "      <td>Born in the town of Sighet, Transylvania, Elie...</td>\n",
       "      <td>family</td>\n",
       "    </tr>\n",
       "    <tr>\n",
       "      <th>2</th>\n",
       "      <td>being and time</td>\n",
       "      <td>Martin Heidegger</td>\n",
       "      <td>4.03</td>\n",
       "      <td>20738</td>\n",
       "      <td>613</td>\n",
       "      <td>589.0</td>\n",
       "      <td>August 1st 1962</td>\n",
       "      <td>by Harper &amp; Row (NYC/Evanston)</td>\n",
       "      <td>One of the most important philosophical works ...</td>\n",
       "      <td>art</td>\n",
       "    </tr>\n",
       "  </tbody>\n",
       "</table>\n",
       "</div>"
      ],
      "text/plain": [
       "                       title            author  rating  num_rating  \\\n",
       "0  the diary of a young girl        Anne Frank    4.16     2887098   \n",
       "1                      night       Elie Wiesel    4.34     1008920   \n",
       "2             being and time  Martin Heidegger    4.03       20738   \n",
       "\n",
       "   num_review   page     year_published                       publisher  \\\n",
       "0       30439  283.0          July 1993                       by Bantam   \n",
       "1       30066  115.0  January 16th 2006                  by Hill & Wang   \n",
       "2         613  589.0    August 1st 1962  by Harper & Row (NYC/Evanston)   \n",
       "\n",
       "                                             summary   topic  \n",
       "0  Discovered in the attic in which she spent the...  family  \n",
       "1  Born in the town of Sighet, Transylvania, Elie...  family  \n",
       "2  One of the most important philosophical works ...     art  "
      ]
     },
     "execution_count": 7,
     "metadata": {},
     "output_type": "execute_result"
    }
   ],
   "source": [
    "data_sl.head(3)"
   ]
  },
  {
   "cell_type": "markdown",
   "id": "periodic-signature",
   "metadata": {},
   "source": [
    "### (COME BACK TO WORK ON) explore display of book titles (quotations marks doesn't work with search):"
   ]
  },
  {
   "cell_type": "code",
   "execution_count": 30,
   "id": "owned-postcard",
   "metadata": {},
   "outputs": [
    {
     "name": "stdout",
     "output_type": "stream",
     "text": [
      "552     the sunset strip diaries\n",
      "1667          the sun down motel\n",
      "Name: title, dtype: object\n"
     ]
    }
   ],
   "source": [
    "title = \"the sun\"\n",
    "\n",
    "for i in [data_sl.loc[data_sl[\"title\"].str.contains(\"^\"+title.lower()), \"title\"]]:\n",
    "    print(i)"
   ]
  },
  {
   "cell_type": "code",
   "execution_count": null,
   "id": "electric-fundamentals",
   "metadata": {},
   "outputs": [],
   "source": [
    "#randomly generating a book title from the dataset\n",
    "data_sl.loc[np.random.choice(data_sl.index, size=1),\"title\"].values[0]"
   ]
  },
  {
   "cell_type": "code",
   "execution_count": null,
   "id": "binary-smoke",
   "metadata": {
    "scrolled": true
   },
   "outputs": [],
   "source": [
    "# # plot for streamlit\n",
    "# df_plot = pd.DataFrame(data_sl.topic.value_counts())\n",
    "\n",
    "# import matplotlib.pyplot as plt, seaborn as sns\n",
    "# %matplotlib inline\n",
    "# plt.style.use(\"seaborn\")\n",
    "\n",
    "# plt.rcParams[\"figure.figsize\"] = [6, 3]\n",
    "# plt.rcParams['figure.dpi'] = 300\n",
    "\n",
    "# fig, ax = plt.subplots()\n",
    "# bars = ax.bar(df_plot.index, df_plot.topic)\n",
    "# for bar in range(0, 12, 2):\n",
    "#     bars[bar].set_color(\"darkmagenta\")\n",
    "# for bar in range(1, 13, 2):\n",
    "#     bars[bar].set_color(\"plum\")\n",
    "# ax.set_xticks(list(range(12)))\n",
    "# ax.set_xticklabels(list(df_plot.index), rotation = 60)\n",
    "# ax.set_title(\"Number of Books per Topic\", fontsize=15)\n",
    "# ax.set_ylabel(\"Number of Books\");"
   ]
  },
  {
   "cell_type": "code",
   "execution_count": null,
   "id": "retained-buying",
   "metadata": {},
   "outputs": [],
   "source": [
    "#data_sl.to_pickle(\"data/data_for_streamlit.pkl\")"
   ]
  },
  {
   "cell_type": "code",
   "execution_count": null,
   "id": "administrative-equilibrium",
   "metadata": {},
   "outputs": [],
   "source": [
    "# sample = np.random.choice(data_sl.index, size=6, replace=False)\n",
    "# print(sample)\n",
    "\n",
    "# for i in data_sl.loc[[149,339,1650,1972,2912,3170], \"title\"].sort_index():\n",
    "#     print(\"title:\", i, \"\\n\")"
   ]
  },
  {
   "cell_type": "markdown",
   "id": "broad-penalty",
   "metadata": {},
   "source": [
    "### Explore recommendations based on topics and rating:"
   ]
  },
  {
   "cell_type": "code",
   "execution_count": 78,
   "id": "general-controversy",
   "metadata": {},
   "outputs": [],
   "source": [
    "mask = (data_sl[\"topic\"] == \"world war II\")\n",
    "bks = data_sl[mask]\n",
    "rating = 5\n",
    "\n",
    "# sample = np.random.choice(science_bks.index, size=6, replace=False)\n",
    "# print(sample)"
   ]
  },
  {
   "cell_type": "code",
   "execution_count": 77,
   "id": "grateful-conducting",
   "metadata": {},
   "outputs": [
    {
     "data": {
      "text/html": [
       "<div>\n",
       "<style scoped>\n",
       "    .dataframe tbody tr th:only-of-type {\n",
       "        vertical-align: middle;\n",
       "    }\n",
       "\n",
       "    .dataframe tbody tr th {\n",
       "        vertical-align: top;\n",
       "    }\n",
       "\n",
       "    .dataframe thead th {\n",
       "        text-align: right;\n",
       "    }\n",
       "</style>\n",
       "<table border=\"1\" class=\"dataframe\">\n",
       "  <thead>\n",
       "    <tr style=\"text-align: right;\">\n",
       "      <th></th>\n",
       "      <th>title</th>\n",
       "      <th>author</th>\n",
       "      <th>rating</th>\n",
       "      <th>num_rating</th>\n",
       "      <th>num_review</th>\n",
       "      <th>page</th>\n",
       "      <th>year_published</th>\n",
       "      <th>publisher</th>\n",
       "      <th>summary</th>\n",
       "      <th>topic</th>\n",
       "    </tr>\n",
       "  </thead>\n",
       "  <tbody>\n",
       "    <tr>\n",
       "      <th>2292</th>\n",
       "      <td>high heels &amp; beetle crushers: the life, losses...</td>\n",
       "      <td>Jackie Skingley</td>\n",
       "      <td>4.67</td>\n",
       "      <td>57</td>\n",
       "      <td>47</td>\n",
       "      <td>328.0</td>\n",
       "      <td>January 1st 2020</td>\n",
       "      <td>by Chronos Books</td>\n",
       "      <td>A compelling memoir of post-war Britain. Jacki...</td>\n",
       "      <td>world war II</td>\n",
       "    </tr>\n",
       "    <tr>\n",
       "      <th>2131</th>\n",
       "      <td>hank brodt holocaust memoirs: a candle and a p...</td>\n",
       "      <td>Deborah Donnelly</td>\n",
       "      <td>4.60</td>\n",
       "      <td>241</td>\n",
       "      <td>22</td>\n",
       "      <td>230.0</td>\n",
       "      <td>October 3rd 2016</td>\n",
       "      <td>by Amsterdam Publishers</td>\n",
       "      <td>A Candle and a Promise   \\n   The Troubling b...</td>\n",
       "      <td>world war II</td>\n",
       "    </tr>\n",
       "    <tr>\n",
       "      <th>2165</th>\n",
       "      <td>survivor love thy enemy</td>\n",
       "      <td>James Dennison</td>\n",
       "      <td>4.58</td>\n",
       "      <td>12</td>\n",
       "      <td>9</td>\n",
       "      <td>268.0</td>\n",
       "      <td>July 21st 2012</td>\n",
       "      <td>by Createspace Independent Publishing Platform</td>\n",
       "      <td>From an inspired Catholic family base, this yo...</td>\n",
       "      <td>world war II</td>\n",
       "    </tr>\n",
       "    <tr>\n",
       "      <th>2172</th>\n",
       "      <td>the nightingale</td>\n",
       "      <td>Kristin Hannah</td>\n",
       "      <td>4.57</td>\n",
       "      <td>764479</td>\n",
       "      <td>68222</td>\n",
       "      <td>440.0</td>\n",
       "      <td>February 3rd 2015</td>\n",
       "      <td>by St. Martin's Press</td>\n",
       "      <td>In love we find out who we want to be.In war w...</td>\n",
       "      <td>world war II</td>\n",
       "    </tr>\n",
       "    <tr>\n",
       "      <th>1645</th>\n",
       "      <td>breaking cadence: one woman's war against the war</td>\n",
       "      <td>Rosa del Duca</td>\n",
       "      <td>4.57</td>\n",
       "      <td>23</td>\n",
       "      <td>11</td>\n",
       "      <td>NaN</td>\n",
       "      <td>May 1st 2019</td>\n",
       "      <td>by Ooligan Press</td>\n",
       "      <td>When a young recruiter tells Rosa del Duca tha...</td>\n",
       "      <td>world war II</td>\n",
       "    </tr>\n",
       "    <tr>\n",
       "      <th>1575</th>\n",
       "      <td>lamb of legacy: a child's survival in hitler's...</td>\n",
       "      <td>Edeltraud F. Fellendorf</td>\n",
       "      <td>4.53</td>\n",
       "      <td>15</td>\n",
       "      <td>7</td>\n",
       "      <td>273.0</td>\n",
       "      <td>January 8th 2013</td>\n",
       "      <td>by Tate Publishing &amp; Enterprises</td>\n",
       "      <td>I am now in my eighties, surprised at the face...</td>\n",
       "      <td>world war II</td>\n",
       "    </tr>\n",
       "    <tr>\n",
       "      <th>1349</th>\n",
       "      <td>stories of elders: what the greatest generatio...</td>\n",
       "      <td>Veronica Kirin</td>\n",
       "      <td>4.51</td>\n",
       "      <td>63</td>\n",
       "      <td>21</td>\n",
       "      <td>320.0</td>\n",
       "      <td>September 30th 2018</td>\n",
       "      <td>by Identity Publications</td>\n",
       "      <td>America’s Greatest Generation (born before 194...</td>\n",
       "      <td>world war II</td>\n",
       "    </tr>\n",
       "    <tr>\n",
       "      <th>504</th>\n",
       "      <td>chasing the scream: the first and last days of...</td>\n",
       "      <td>Johann Hari</td>\n",
       "      <td>4.49</td>\n",
       "      <td>13455</td>\n",
       "      <td>1733</td>\n",
       "      <td>400.0</td>\n",
       "      <td>January 20th 2015</td>\n",
       "      <td>by Bloomsbury USA</td>\n",
       "      <td>New York Times BestsellerIt is now one hundred...</td>\n",
       "      <td>world war II</td>\n",
       "    </tr>\n",
       "    <tr>\n",
       "      <th>838</th>\n",
       "      <td>debunking holocaust denial theories</td>\n",
       "      <td>James Morcan</td>\n",
       "      <td>4.49</td>\n",
       "      <td>114</td>\n",
       "      <td>32</td>\n",
       "      <td>222.0</td>\n",
       "      <td>April 28th 2016</td>\n",
       "      <td>by Sterling Gate Books</td>\n",
       "      <td>DEBUNKING HOLOCAUST DENIAL THEORIES: Two Non-J...</td>\n",
       "      <td>world war II</td>\n",
       "    </tr>\n",
       "    <tr>\n",
       "      <th>521</th>\n",
       "      <td>the gulag archipelago, 1918-1956: an experimen...</td>\n",
       "      <td>Aleksandr Solzhenitsyn</td>\n",
       "      <td>4.48</td>\n",
       "      <td>1969</td>\n",
       "      <td>113</td>\n",
       "      <td>712.0</td>\n",
       "      <td>January 1st 1992</td>\n",
       "      <td>by HarperCollins Publishers</td>\n",
       "      <td>Drawing on his own incarceration and exile, a...</td>\n",
       "      <td>world war II</td>\n",
       "    </tr>\n",
       "  </tbody>\n",
       "</table>\n",
       "</div>"
      ],
      "text/plain": [
       "                                                  title  \\\n",
       "2292  high heels & beetle crushers: the life, losses...   \n",
       "2131  hank brodt holocaust memoirs: a candle and a p...   \n",
       "2165                            survivor love thy enemy   \n",
       "2172                                    the nightingale   \n",
       "1645  breaking cadence: one woman's war against the war   \n",
       "1575  lamb of legacy: a child's survival in hitler's...   \n",
       "1349  stories of elders: what the greatest generatio...   \n",
       "504   chasing the scream: the first and last days of...   \n",
       "838                 debunking holocaust denial theories   \n",
       "521   the gulag archipelago, 1918-1956: an experimen...   \n",
       "\n",
       "                       author  rating  num_rating  num_review   page  \\\n",
       "2292          Jackie Skingley    4.67          57          47  328.0   \n",
       "2131         Deborah Donnelly    4.60         241          22  230.0   \n",
       "2165           James Dennison    4.58          12           9  268.0   \n",
       "2172           Kristin Hannah    4.57      764479       68222  440.0   \n",
       "1645            Rosa del Duca    4.57          23          11    NaN   \n",
       "1575  Edeltraud F. Fellendorf    4.53          15           7  273.0   \n",
       "1349           Veronica Kirin    4.51          63          21  320.0   \n",
       "504               Johann Hari    4.49       13455        1733  400.0   \n",
       "838              James Morcan    4.49         114          32  222.0   \n",
       "521    Aleksandr Solzhenitsyn    4.48        1969         113  712.0   \n",
       "\n",
       "           year_published                                       publisher  \\\n",
       "2292     January 1st 2020                                by Chronos Books   \n",
       "2131     October 3rd 2016                         by Amsterdam Publishers   \n",
       "2165       July 21st 2012  by Createspace Independent Publishing Platform   \n",
       "2172    February 3rd 2015                           by St. Martin's Press   \n",
       "1645         May 1st 2019                                by Ooligan Press   \n",
       "1575     January 8th 2013                by Tate Publishing & Enterprises   \n",
       "1349  September 30th 2018                        by Identity Publications   \n",
       "504     January 20th 2015                               by Bloomsbury USA   \n",
       "838       April 28th 2016                          by Sterling Gate Books   \n",
       "521      January 1st 1992                     by HarperCollins Publishers   \n",
       "\n",
       "                                                summary         topic  \n",
       "2292  A compelling memoir of post-war Britain. Jacki...  world war II  \n",
       "2131   A Candle and a Promise   \\n   The Troubling b...  world war II  \n",
       "2165  From an inspired Catholic family base, this yo...  world war II  \n",
       "2172  In love we find out who we want to be.In war w...  world war II  \n",
       "1645  When a young recruiter tells Rosa del Duca tha...  world war II  \n",
       "1575  I am now in my eighties, surprised at the face...  world war II  \n",
       "1349  America’s Greatest Generation (born before 194...  world war II  \n",
       "504   New York Times BestsellerIt is now one hundred...  world war II  \n",
       "838   DEBUNKING HOLOCAUST DENIAL THEORIES: Two Non-J...  world war II  \n",
       "521    Drawing on his own incarceration and exile, a...  world war II  "
      ]
     },
     "execution_count": 77,
     "metadata": {},
     "output_type": "execute_result"
    }
   ],
   "source": [
    "df1 = bks.sort_values(\"rating\", ascending=False)\n",
    "df1.head(10)\n"
   ]
  },
  {
   "cell_type": "code",
   "execution_count": 79,
   "id": "invisible-thanksgiving",
   "metadata": {},
   "outputs": [
    {
     "data": {
      "text/html": [
       "<div>\n",
       "<style scoped>\n",
       "    .dataframe tbody tr th:only-of-type {\n",
       "        vertical-align: middle;\n",
       "    }\n",
       "\n",
       "    .dataframe tbody tr th {\n",
       "        vertical-align: top;\n",
       "    }\n",
       "\n",
       "    .dataframe thead th {\n",
       "        text-align: right;\n",
       "    }\n",
       "</style>\n",
       "<table border=\"1\" class=\"dataframe\">\n",
       "  <thead>\n",
       "    <tr style=\"text-align: right;\">\n",
       "      <th></th>\n",
       "      <th>title</th>\n",
       "      <th>author</th>\n",
       "      <th>rating</th>\n",
       "      <th>num_rating</th>\n",
       "      <th>num_review</th>\n",
       "      <th>page</th>\n",
       "      <th>year_published</th>\n",
       "      <th>publisher</th>\n",
       "      <th>summary</th>\n",
       "      <th>topic</th>\n",
       "    </tr>\n",
       "  </thead>\n",
       "  <tbody>\n",
       "  </tbody>\n",
       "</table>\n",
       "</div>"
      ],
      "text/plain": [
       "Empty DataFrame\n",
       "Columns: [title, author, rating, num_rating, num_review, page, year_published, publisher, summary, topic]\n",
       "Index: []"
      ]
     },
     "execution_count": 79,
     "metadata": {},
     "output_type": "execute_result"
    }
   ],
   "source": [
    "df2 = df1[df1[\"rating\"] >= rating]\n",
    "df2"
   ]
  },
  {
   "cell_type": "code",
   "execution_count": 59,
   "id": "returning-literacy",
   "metadata": {},
   "outputs": [
    {
     "name": "stdout",
     "output_type": "stream",
     "text": [
      "Title:  Digicrimination Those Are The Good Times: A New Type Of Discrimination That Came With Digitization \n",
      "\n",
      "Rating (scale 0-5):  5.0 ; and Author:  H.Okan Tansu \n",
      "\n",
      "Summary:  Our society is highly effected by the digital revolution. This book describes with examples and new concepts the discrimination created by the Digital World at different layers of the society. The author analyzes the new technological ecosystem with components like the Digital Ghetto and describes the measures which need to be taken in the future. He evaluates this new digital world focusing on several aspects of social relations and lifestyles. The book also analyzes the mistakes made while entering the Information Age. Furthermore, the author answers the question if human society is ready for the amenities of services like Social Media, e-learning, energy and self-driving cars or if they actually make our lives more difficult and complicated.  \n",
      "\n",
      "Title:  A Vineyard Odyssey: The Organic Fight To Save Wine From The Ravages Of Nature \n",
      "\n",
      "Rating (scale 0-5):  4.67 ; and Author:  John Kiger \n",
      "\n",
      "Summary:  A Vineyard Odyssey is a fascinating saga of wine-the journey from vine to bottle-that takes the reader on a travelogue of the many hazards that lie along the way. John Kiger tracks the nefarious denizens of the vineyard world: the host of insects, fungi, bacteria, and viruses, along with the feathered and furry critters, that lurk in vineyards. All are capable of sabotaging a promising vintage right under the nose of an unsuspecting grower. Rather than responding with toxic chemicals, Kiger follows an organic approach to cultivation, explaining how natural and biological controls can conquer or at least contain these vineyard saboteurs. Highlighting the many hazards of nature that lie hidden in any vintage, the author tells the story of a winegrower and an organic philosophy that guides the annual struggle to coax great wine from a steep hillside and a few thousand vines. Combining history, science, technology, and personal experience, this book vividly brings to life the hard-fought battles behind the wines we savor. \n",
      "\n"
     ]
    }
   ],
   "source": [
    "\n",
    "ind = np.random.choice(df2.index, size=2, replace=False)\n",
    "books = df2.loc[ind, :]\n",
    "for ind in books.index:\n",
    "    title = books.loc[ind, \"title\"]\n",
    "    summary = books.loc[ind, \"summary\"]\n",
    "    rating = books.loc[ind, \"rating\"]\n",
    "    author = books.loc[ind, \"author\"]\n",
    "    print(\"Title: \", title.title(), \"\\n\")\n",
    "    print(\"Rating (scale 0-5): \", rating, \"; and Author: \", author, \"\\n\")\n",
    "    print(\"Summary: \" , summary, \"\\n\")"
   ]
  },
  {
   "cell_type": "code",
   "execution_count": 51,
   "id": "indonesian-statistics",
   "metadata": {},
   "outputs": [
    {
     "data": {
      "text/html": [
       "<div>\n",
       "<style scoped>\n",
       "    .dataframe tbody tr th:only-of-type {\n",
       "        vertical-align: middle;\n",
       "    }\n",
       "\n",
       "    .dataframe tbody tr th {\n",
       "        vertical-align: top;\n",
       "    }\n",
       "\n",
       "    .dataframe thead th {\n",
       "        text-align: right;\n",
       "    }\n",
       "</style>\n",
       "<table border=\"1\" class=\"dataframe\">\n",
       "  <thead>\n",
       "    <tr style=\"text-align: right;\">\n",
       "      <th></th>\n",
       "      <th>title</th>\n",
       "      <th>author</th>\n",
       "      <th>rating</th>\n",
       "      <th>num_rating</th>\n",
       "      <th>num_review</th>\n",
       "      <th>page</th>\n",
       "      <th>year_published</th>\n",
       "      <th>publisher</th>\n",
       "      <th>summary</th>\n",
       "      <th>topic</th>\n",
       "    </tr>\n",
       "  </thead>\n",
       "  <tbody>\n",
       "    <tr>\n",
       "      <th>2321</th>\n",
       "      <td>a vineyard odyssey: the organic fight to save ...</td>\n",
       "      <td>John Kiger</td>\n",
       "      <td>4.67</td>\n",
       "      <td>6</td>\n",
       "      <td>2</td>\n",
       "      <td>202.0</td>\n",
       "      <td>June 6th 2013</td>\n",
       "      <td>by Rowman &amp; Littlefield Publishers</td>\n",
       "      <td>A Vineyard Odyssey is a fascinating saga of wi...</td>\n",
       "      <td>science</td>\n",
       "    </tr>\n",
       "    <tr>\n",
       "      <th>1239</th>\n",
       "      <td>of the andromeda martian catastrophe</td>\n",
       "      <td>Vegas Luna</td>\n",
       "      <td>4.57</td>\n",
       "      <td>35</td>\n",
       "      <td>12</td>\n",
       "      <td>257.0</td>\n",
       "      <td>May 10th 2015</td>\n",
       "      <td>by Vegas Luna</td>\n",
       "      <td>This is an investigation into the Atlantean Me...</td>\n",
       "      <td>science</td>\n",
       "    </tr>\n",
       "  </tbody>\n",
       "</table>\n",
       "</div>"
      ],
      "text/plain": [
       "                                                  title      author  rating  \\\n",
       "2321  a vineyard odyssey: the organic fight to save ...  John Kiger    4.67   \n",
       "1239               of the andromeda martian catastrophe  Vegas Luna    4.57   \n",
       "\n",
       "      num_rating  num_review   page year_published  \\\n",
       "2321           6           2  202.0  June 6th 2013   \n",
       "1239          35          12  257.0  May 10th 2015   \n",
       "\n",
       "                               publisher  \\\n",
       "2321  by Rowman & Littlefield Publishers   \n",
       "1239                       by Vegas Luna   \n",
       "\n",
       "                                                summary    topic  \n",
       "2321  A Vineyard Odyssey is a fascinating saga of wi...  science  \n",
       "1239  This is an investigation into the Atlantean Me...  science  "
      ]
     },
     "execution_count": 51,
     "metadata": {},
     "output_type": "execute_result"
    }
   ],
   "source": [
    "books"
   ]
  },
  {
   "cell_type": "code",
   "execution_count": null,
   "id": "enhanced-helmet",
   "metadata": {},
   "outputs": [],
   "source": []
  },
  {
   "cell_type": "code",
   "execution_count": null,
   "id": "direct-growing",
   "metadata": {},
   "outputs": [],
   "source": []
  },
  {
   "cell_type": "code",
   "execution_count": null,
   "id": "empty-factory",
   "metadata": {},
   "outputs": [],
   "source": [
    "img = Image.open(\"/Users/sarazzzz/Desktop/Metis/CAMP/Metis_project5/book_images/book2658.jpg\")\n",
    "plt.imshow(img)\n",
    "plt.xticks([])\n",
    "plt.yticks([]);\n",
    "#plt.savefig(\"images/science_example1.svg\");"
   ]
  },
  {
   "cell_type": "code",
   "execution_count": null,
   "id": "quick-cookie",
   "metadata": {},
   "outputs": [],
   "source": [
    "img3 = Image.open(\"/Users/sarazzzz/Desktop/Metis/CAMP/Metis_project5/book_images/book159.jpg\")\n",
    "plt.imshow(img3)\n",
    "plt.xticks([])\n",
    "plt.yticks([]);\n",
    "#plt.savefig(\"images/science_example2.svg\");"
   ]
  },
  {
   "cell_type": "markdown",
   "id": "inclusive-criterion",
   "metadata": {},
   "source": [
    "### Recommendation system based on topic vectors:"
   ]
  },
  {
   "cell_type": "code",
   "execution_count": 9,
   "id": "opposite-welding",
   "metadata": {},
   "outputs": [],
   "source": [
    "df_rec = df.loc[:, [\"title\", \"topic_1\", \"topic_2\", \"topic_3\", \"topic_4\", \"topic_5\", \"topic_6\",\n",
    "                    \"topic_7\", \"topic_8\", \"topic_9\", \"topic_10\", \"topic_11\", \"topic_12\"]].set_index(\"title\")"
   ]
  },
  {
   "cell_type": "code",
   "execution_count": 10,
   "id": "automotive-server",
   "metadata": {
    "scrolled": true
   },
   "outputs": [
    {
     "data": {
      "text/html": [
       "<div>\n",
       "<style scoped>\n",
       "    .dataframe tbody tr th:only-of-type {\n",
       "        vertical-align: middle;\n",
       "    }\n",
       "\n",
       "    .dataframe tbody tr th {\n",
       "        vertical-align: top;\n",
       "    }\n",
       "\n",
       "    .dataframe thead th {\n",
       "        text-align: right;\n",
       "    }\n",
       "</style>\n",
       "<table border=\"1\" class=\"dataframe\">\n",
       "  <thead>\n",
       "    <tr style=\"text-align: right;\">\n",
       "      <th></th>\n",
       "      <th>topic_1</th>\n",
       "      <th>topic_2</th>\n",
       "      <th>topic_3</th>\n",
       "      <th>topic_4</th>\n",
       "      <th>topic_5</th>\n",
       "      <th>topic_6</th>\n",
       "      <th>topic_7</th>\n",
       "      <th>topic_8</th>\n",
       "      <th>topic_9</th>\n",
       "      <th>topic_10</th>\n",
       "      <th>topic_11</th>\n",
       "      <th>topic_12</th>\n",
       "    </tr>\n",
       "    <tr>\n",
       "      <th>title</th>\n",
       "      <th></th>\n",
       "      <th></th>\n",
       "      <th></th>\n",
       "      <th></th>\n",
       "      <th></th>\n",
       "      <th></th>\n",
       "      <th></th>\n",
       "      <th></th>\n",
       "      <th></th>\n",
       "      <th></th>\n",
       "      <th></th>\n",
       "      <th></th>\n",
       "    </tr>\n",
       "  </thead>\n",
       "  <tbody>\n",
       "    <tr>\n",
       "      <th>the diary of a young girl</th>\n",
       "      <td>0.0223</td>\n",
       "      <td>0.0000</td>\n",
       "      <td>0.0295</td>\n",
       "      <td>0.0285</td>\n",
       "      <td>0.0</td>\n",
       "      <td>0.0</td>\n",
       "      <td>0.0</td>\n",
       "      <td>0.0702</td>\n",
       "      <td>0.0</td>\n",
       "      <td>0.0038</td>\n",
       "      <td>0.0793</td>\n",
       "      <td>0.0179</td>\n",
       "    </tr>\n",
       "    <tr>\n",
       "      <th>night</th>\n",
       "      <td>0.0073</td>\n",
       "      <td>0.0000</td>\n",
       "      <td>0.0000</td>\n",
       "      <td>0.0000</td>\n",
       "      <td>0.0</td>\n",
       "      <td>0.0</td>\n",
       "      <td>0.0</td>\n",
       "      <td>0.0216</td>\n",
       "      <td>0.0</td>\n",
       "      <td>0.0171</td>\n",
       "      <td>0.0649</td>\n",
       "      <td>0.0035</td>\n",
       "    </tr>\n",
       "    <tr>\n",
       "      <th>being and time</th>\n",
       "      <td>0.0000</td>\n",
       "      <td>0.0023</td>\n",
       "      <td>0.0166</td>\n",
       "      <td>0.0000</td>\n",
       "      <td>0.0</td>\n",
       "      <td>0.0</td>\n",
       "      <td>0.0</td>\n",
       "      <td>0.0000</td>\n",
       "      <td>0.0</td>\n",
       "      <td>0.1318</td>\n",
       "      <td>0.0000</td>\n",
       "      <td>0.0000</td>\n",
       "    </tr>\n",
       "  </tbody>\n",
       "</table>\n",
       "</div>"
      ],
      "text/plain": [
       "                           topic_1  topic_2  topic_3  topic_4  topic_5  \\\n",
       "title                                                                    \n",
       "the diary of a young girl   0.0223   0.0000   0.0295   0.0285      0.0   \n",
       "night                       0.0073   0.0000   0.0000   0.0000      0.0   \n",
       "being and time              0.0000   0.0023   0.0166   0.0000      0.0   \n",
       "\n",
       "                           topic_6  topic_7  topic_8  topic_9  topic_10  \\\n",
       "title                                                                     \n",
       "the diary of a young girl      0.0      0.0   0.0702      0.0    0.0038   \n",
       "night                          0.0      0.0   0.0216      0.0    0.0171   \n",
       "being and time                 0.0      0.0   0.0000      0.0    0.1318   \n",
       "\n",
       "                           topic_11  topic_12  \n",
       "title                                          \n",
       "the diary of a young girl    0.0793    0.0179  \n",
       "night                        0.0649    0.0035  \n",
       "being and time               0.0000    0.0000  "
      ]
     },
     "execution_count": 10,
     "metadata": {},
     "output_type": "execute_result"
    }
   ],
   "source": [
    "# make book title lower case so search for title is not case sensitive\n",
    "df_rec.index = df_rec.index.str.lower()\n",
    "df_rec.head(3)"
   ]
  },
  {
   "cell_type": "code",
   "execution_count": 11,
   "id": "prerequisite-mount",
   "metadata": {
    "scrolled": true
   },
   "outputs": [
    {
     "data": {
      "text/plain": [
       "topic_1     0.0513\n",
       "topic_2     0.0147\n",
       "topic_3     0.0147\n",
       "topic_4     0.0000\n",
       "topic_5     0.0085\n",
       "topic_6     0.0000\n",
       "topic_7     0.0729\n",
       "topic_8     0.0000\n",
       "topic_9     0.0170\n",
       "topic_10    0.0000\n",
       "topic_11    0.0269\n",
       "topic_12    0.0041\n",
       "Name: when breath becomes air, dtype: float64"
      ]
     },
     "execution_count": 11,
     "metadata": {},
     "output_type": "execute_result"
    }
   ],
   "source": [
    "# topic vector for When Breath Becomes Air\n",
    "df_rec.loc['when breath becomes air']"
   ]
  },
  {
   "cell_type": "code",
   "execution_count": 21,
   "id": "auburn-enclosure",
   "metadata": {},
   "outputs": [],
   "source": [
    "def recommend(title):\n",
    "    title = title.lower()\n",
    "    ind = pairwise_distances(df_rec.loc[title].values.reshape(1,-1), df_rec, metric='cosine').argsort()[0][:6]\n",
    "    return df_rec.index[ind]"
   ]
  },
  {
   "cell_type": "code",
   "execution_count": 22,
   "id": "occupied-present",
   "metadata": {
    "scrolled": false
   },
   "outputs": [
    {
     "data": {
      "text/plain": [
       "Index(['quiet: the power of introverts in a world that can't stop talking',\n",
       "       'modern real estate investing: the delaware statutory trust',\n",
       "       'the power of habit: why we do what we do in life and business',\n",
       "       'a newborn business: esports',\n",
       "       'creativity, inc.: overcoming the unseen forces that stand in the way of true inspiration',\n",
       "       'naked economics: undressing the dismal science'],\n",
       "      dtype='object', name='title')"
      ]
     },
     "execution_count": 22,
     "metadata": {},
     "output_type": "execute_result"
    }
   ],
   "source": [
    "recommend(\"Quiet: The Power Of Introverts In A World That Can'T Stop Talking\")"
   ]
  },
  {
   "cell_type": "code",
   "execution_count": null,
   "id": "usual-conflict",
   "metadata": {},
   "outputs": [],
   "source": [
    "# make title column in df lower case to pull out summary\n",
    "df[\"title\"] = df[\"title\"].apply(lambda x: x.lower())"
   ]
  },
  {
   "cell_type": "code",
   "execution_count": null,
   "id": "headed-shoulder",
   "metadata": {
    "scrolled": true
   },
   "outputs": [],
   "source": [
    "# mask = (df.title == \"when breath becomes air\")|\\\n",
    "#        (df.title == \"many lives, many masters: the true story of a prominent psychiatrist, his young patient, and the past life therapy that changed both their lives\")|\\\n",
    "#        (df.title == \"autobiography of a face\")\n",
    "       \n",
    "# df[mask]\n",
    "# for i in df.loc[mask, \"summary\"]:\n",
    "#     print(\"Summary: \", i, \"\\n\")"
   ]
  },
  {
   "cell_type": "code",
   "execution_count": null,
   "id": "rapid-content",
   "metadata": {
    "scrolled": false
   },
   "outputs": [],
   "source": [
    "recommend(\"Being Mortal: Medicine and What Matters in the End\")"
   ]
  },
  {
   "cell_type": "code",
   "execution_count": null,
   "id": "ignored-capitol",
   "metadata": {},
   "outputs": [],
   "source": [
    "# mask = (df.title == \"added sugars-the slow poison\") |\\\n",
    "#        (df.title == \"being mortal: medicine and what matters in the end\")|\\\n",
    "#        (df.title == \"surgeon's story: inside or-1 with one of america's top pediatric heart surgeons\")\n",
    "       \n",
    "       \n",
    "# df[mask]\n",
    "# for i in df.loc[mask, \"summary\"]:\n",
    "#     print(\"Summary: \", i, \"\\n\")"
   ]
  },
  {
   "cell_type": "code",
   "execution_count": null,
   "id": "challenging-absorption",
   "metadata": {
    "scrolled": true
   },
   "outputs": [],
   "source": [
    "recommend(\"The Tipping Point: How Little Things Can Make a Big Difference\")"
   ]
  },
  {
   "cell_type": "code",
   "execution_count": null,
   "id": "crude-message",
   "metadata": {},
   "outputs": [],
   "source": [
    "# mask = (df.title == \"the tipping point: how little things can make a big difference\") |\\\n",
    "#        (df.title == \"the signal and the noise: why so many predictions fail—but some don't\")|\\\n",
    "#        (df.title == \"the spirit level: why more equal societies almost always do better\")\n",
    "# df[mask]\n",
    "# for i in df.loc[mask, \"summary\"]:\n",
    "#     print(\"Summary: \", i, \"\\n\")"
   ]
  },
  {
   "cell_type": "markdown",
   "id": "atlantic-track",
   "metadata": {},
   "source": [
    "### ^^Try out 2 books (When Breath Becomes Air and Being Mortal), recommendations don't seem particular impressing (hit or miss based on the book summaries), GoodReads recommendations make more sense to me"
   ]
  },
  {
   "cell_type": "code",
   "execution_count": null,
   "id": "united-ladder",
   "metadata": {},
   "outputs": [],
   "source": []
  },
  {
   "cell_type": "markdown",
   "id": "played-operation",
   "metadata": {},
   "source": [
    "### Word embedding with GloVe:"
   ]
  },
  {
   "cell_type": "code",
   "execution_count": null,
   "id": "informational-reconstruction",
   "metadata": {},
   "outputs": [],
   "source": [
    "glove_file = datapath(\"/Users/sarazzzz/Downloads/glove/glove.6B.100d.txt\")\n",
    "tmp_file = get_tmpfile(\"glove_word2vec.txt\")\n",
    "\n",
    "glove2word2vec(glove_file, tmp_file)\n",
    "model = gensim.models.KeyedVectors.load_word2vec_format(tmp_file)"
   ]
  },
  {
   "cell_type": "code",
   "execution_count": null,
   "id": "invalid-chase",
   "metadata": {},
   "outputs": [],
   "source": [
    "# testing, comparing via cosine similarity\n",
    "print(model.similarity('obama', 'clinton'))\n",
    "print(model.similarity('obama', 'reagan'))"
   ]
  },
  {
   "cell_type": "code",
   "execution_count": null,
   "id": "adequate-stanford",
   "metadata": {
    "scrolled": true
   },
   "outputs": [],
   "source": [
    "df = pd.read_pickle(\"data/clean_summary.pkl\")\n",
    "df.head()"
   ]
  },
  {
   "cell_type": "code",
   "execution_count": null,
   "id": "proof-fitting",
   "metadata": {},
   "outputs": [],
   "source": [
    "def clean_text(text):\n",
    "    \"\"\"Cleans text by making text lowercase, removing words containing numbers, and extracting only words.\n",
    "       Parameters: strings of text\n",
    "       Returns: cleaned text\n",
    "    \"\"\"\n",
    "    text = text.lower()\n",
    "    text = re.sub(\"['’]\", \"\", text)\n",
    "    text = re.sub(\"\\n\", \" \", text)\n",
    "    text = re.sub(\"\\w*\\d\\w*\", \"\", text)\n",
    "    text = re.sub(\"[^a-z\\s]\", \" \", text)\n",
    "\n",
    "    return text    "
   ]
  },
  {
   "cell_type": "code",
   "execution_count": null,
   "id": "surprised-academy",
   "metadata": {},
   "outputs": [],
   "source": [
    "# clean book summary and add it back to the data frame as clean_summary WITHOUT lemmatization\n",
    "df[\"clean_summary\"] = df[\"summary\"].apply(clean_text)"
   ]
  },
  {
   "cell_type": "code",
   "execution_count": null,
   "id": "pending-glucose",
   "metadata": {
    "scrolled": true
   },
   "outputs": [],
   "source": [
    "text = df.iloc[0, -1]\n",
    "\n",
    "text_tokens = word_tokenize(text)\n",
    "print(text_tokens)"
   ]
  },
  {
   "cell_type": "code",
   "execution_count": null,
   "id": "following-majority",
   "metadata": {},
   "outputs": [],
   "source": [
    "vec_list = []\n",
    "for word in set(text_tokens):\n",
    "    try:\n",
    "        vec_list.append(model[word])\n",
    "    except:\n",
    "        print(word)"
   ]
  },
  {
   "cell_type": "code",
   "execution_count": null,
   "id": "temporal-boring",
   "metadata": {
    "scrolled": true
   },
   "outputs": [],
   "source": [
    "vector = pd.DataFrame(vec_list)\n",
    "print(vector.shape)\n",
    "len(set(text_tokens))\n",
    "vector.head()"
   ]
  },
  {
   "cell_type": "code",
   "execution_count": null,
   "id": "directed-exposure",
   "metadata": {
    "scrolled": true
   },
   "outputs": [],
   "source": [
    "vector.mean().values.shape"
   ]
  },
  {
   "cell_type": "code",
   "execution_count": null,
   "id": "right-johnston",
   "metadata": {},
   "outputs": [],
   "source": [
    "def summary_to_vec(summary):\n",
    "    summary_tokens = word_tokenize(summary)\n",
    "    \n",
    "    vec_list = []\n",
    "    for word in set(summary_tokens):\n",
    "        try:\n",
    "            vec_list.append(model[word])\n",
    "        except:\n",
    "            pass\n",
    "    \n",
    "    vector = pd.DataFrame(vec_list).mean().values\n",
    "    \n",
    "    return vector"
   ]
  },
  {
   "cell_type": "markdown",
   "id": "uniform-clark",
   "metadata": {},
   "source": [
    "### Test run on the first five summaries in the dataset:"
   ]
  },
  {
   "cell_type": "code",
   "execution_count": null,
   "id": "searching-america",
   "metadata": {
    "scrolled": false
   },
   "outputs": [],
   "source": [
    "testing = df.iloc[:5, :]\n",
    "testing"
   ]
  },
  {
   "cell_type": "code",
   "execution_count": null,
   "id": "religious-three",
   "metadata": {},
   "outputs": [],
   "source": [
    "test_vec = testing[\"clean_summary\"].apply(summary_to_vec)"
   ]
  },
  {
   "cell_type": "code",
   "execution_count": null,
   "id": "inside-runner",
   "metadata": {},
   "outputs": [],
   "source": [
    "test_vec"
   ]
  },
  {
   "cell_type": "code",
   "execution_count": null,
   "id": "genetic-render",
   "metadata": {},
   "outputs": [],
   "source": [
    "df_test = pd.DataFrame([x for x in test_vec])\n",
    "df_test.head(3)"
   ]
  },
  {
   "cell_type": "code",
   "execution_count": null,
   "id": "demographic-immune",
   "metadata": {},
   "outputs": [],
   "source": [
    "start = time.time()\n",
    "summary_vec = df[\"clean_summary\"].apply(summary_to_vec)\n",
    "print(time.time() - start)"
   ]
  },
  {
   "cell_type": "code",
   "execution_count": null,
   "id": "roman-teaching",
   "metadata": {},
   "outputs": [],
   "source": [
    "df_vec = pd.DataFrame([x for x in summary_vec], index = df_rec.index)\n",
    "df_vec.head()"
   ]
  },
  {
   "cell_type": "code",
   "execution_count": null,
   "id": "professional-administration",
   "metadata": {},
   "outputs": [],
   "source": [
    "# check vector for a particular book\n",
    "df_vec.loc['being and time']"
   ]
  },
  {
   "cell_type": "code",
   "execution_count": null,
   "id": "meaningful-belarus",
   "metadata": {},
   "outputs": [],
   "source": [
    "def recommend2(title):\n",
    "    title = title.lower()\n",
    "    ind = pairwise_distances(df_vec.loc[title].values.reshape(1,-1), df_vec, metric='cosine').argsort()[0][:6]\n",
    "    return df_vec.index[ind]"
   ]
  },
  {
   "cell_type": "code",
   "execution_count": null,
   "id": "wicked-array",
   "metadata": {
    "scrolled": true
   },
   "outputs": [],
   "source": [
    "recommend2(\"being and time\")"
   ]
  },
  {
   "cell_type": "code",
   "execution_count": null,
   "id": "recreational-accuracy",
   "metadata": {},
   "outputs": [],
   "source": [
    "# make title column in df lower case to pull out summary\n",
    "df[\"title\"] = df[\"title\"].apply(lambda x: x.lower())"
   ]
  },
  {
   "cell_type": "code",
   "execution_count": null,
   "id": "leading-appeal",
   "metadata": {},
   "outputs": [],
   "source": [
    "# mask = (df.title == \"being and time\") |\\\n",
    "#        (df.title == \"poetry, language, thought\")|\\\n",
    "#        (df.title == \"the spanish civil war: a very short introduction\")\n",
    "# df[mask]\n",
    "# for i in df.loc[mask, \"summary\"]:\n",
    "#     print(\"Summary: \", i, \"\\n\")"
   ]
  },
  {
   "cell_type": "code",
   "execution_count": null,
   "id": "occasional-tourist",
   "metadata": {
    "scrolled": false
   },
   "outputs": [],
   "source": [
    "recommend2(\"Being Mortal: Medicine and What Matters in the End\")"
   ]
  },
  {
   "cell_type": "code",
   "execution_count": null,
   "id": "conceptual-liverpool",
   "metadata": {},
   "outputs": [],
   "source": [
    "# mask = (df.title == \"what to do when you have heart disease\")|\\\n",
    "#        (df.title == \"being mortal: medicine and what matters in the end\") |\\\n",
    "#        (df.title == \"dr. fred's healthcare rescue: the real solution to healthcare\")\n",
    "# df[mask]\n",
    "# for i in df.loc[mask, \"summary\"]:\n",
    "#     print(\"Summary: \", i, \"\\n\")"
   ]
  },
  {
   "cell_type": "code",
   "execution_count": null,
   "id": "anonymous-psychiatry",
   "metadata": {
    "scrolled": true
   },
   "outputs": [],
   "source": [
    "recommend2(\"The Tipping Point: How Little Things Can Make a Big Difference\")"
   ]
  },
  {
   "cell_type": "code",
   "execution_count": null,
   "id": "desperate-spider",
   "metadata": {},
   "outputs": [],
   "source": [
    "# mask = (df.title == \"the tipping point: how little things can make a big difference\")|\\\n",
    "#        (df.title == \"invisible women: data bias in a world designed for men\") |\\\n",
    "#        (df.title == \"the undercover economist\")\n",
    "# df[mask]\n",
    "# for i in df.loc[mask, \"summary\"]:\n",
    "#     print(\"Summary: \", i, \"\\n\")"
   ]
  },
  {
   "cell_type": "markdown",
   "id": "structural-worry",
   "metadata": {},
   "source": [
    "### ^ Recommendation might be better than topic vectors??\n",
    "### Trying out the 300d vectors:"
   ]
  },
  {
   "cell_type": "code",
   "execution_count": null,
   "id": "rural-hindu",
   "metadata": {},
   "outputs": [],
   "source": [
    "glove_file2 = datapath(\"/Users/sarazzzz/Downloads/glove/glove.6B.300d.txt\")\n",
    "tmp_file2 = get_tmpfile(\"glove_word2vec.txt\")\n",
    "\n",
    "glove2word2vec(glove_file2, tmp_file2)\n",
    "model = gensim.models.KeyedVectors.load_word2vec_format(tmp_file2)"
   ]
  },
  {
   "cell_type": "code",
   "execution_count": null,
   "id": "normal-davis",
   "metadata": {},
   "outputs": [],
   "source": [
    "text = df.iloc[0, -1]\n",
    "text_tokens = word_tokenize(text)\n",
    "print(text_tokens)"
   ]
  },
  {
   "cell_type": "code",
   "execution_count": null,
   "id": "loved-therapist",
   "metadata": {},
   "outputs": [],
   "source": [
    "vec_list = []\n",
    "for word in set(text_tokens):\n",
    "    try:\n",
    "        vec_list.append(model[word])\n",
    "    except:\n",
    "        print(word)"
   ]
  },
  {
   "cell_type": "code",
   "execution_count": null,
   "id": "experienced-waters",
   "metadata": {
    "scrolled": true
   },
   "outputs": [],
   "source": [
    "vector = pd.DataFrame(vec_list)\n",
    "print(vector.shape)\n",
    "len(set(text_tokens))"
   ]
  },
  {
   "cell_type": "code",
   "execution_count": null,
   "id": "heard-pattern",
   "metadata": {},
   "outputs": [],
   "source": [
    "df.head(3)"
   ]
  },
  {
   "cell_type": "code",
   "execution_count": null,
   "id": "olive-tunisia",
   "metadata": {},
   "outputs": [],
   "source": [
    "start = time.time()\n",
    "summary_vec = df[\"clean_summary\"].apply(summary_to_vec)\n",
    "print(time.time() - start)"
   ]
  },
  {
   "cell_type": "code",
   "execution_count": null,
   "id": "suited-scoop",
   "metadata": {},
   "outputs": [],
   "source": [
    "df_vec300 = pd.DataFrame([x for x in summary_vec], index = df_rec.index)\n",
    "df_vec300.shape"
   ]
  },
  {
   "cell_type": "code",
   "execution_count": null,
   "id": "operational-responsibility",
   "metadata": {},
   "outputs": [],
   "source": [
    "df_vec300.to_pickle(\"GloVe_embedding_for_rec.pkl\")"
   ]
  },
  {
   "cell_type": "code",
   "execution_count": null,
   "id": "palestinian-retrieval",
   "metadata": {},
   "outputs": [],
   "source": [
    "df_rec = pd.read_pickle(\"data/GloVe_embedding_for_recommendation.pkl\")"
   ]
  },
  {
   "cell_type": "markdown",
   "id": "tight-mississippi",
   "metadata": {},
   "source": [
    "### Recommender modified for streamlit:"
   ]
  },
  {
   "cell_type": "code",
   "execution_count": null,
   "id": "bored-builder",
   "metadata": {},
   "outputs": [],
   "source": [
    "def recommend3(title):\n",
    "    title = title.lower()\n",
    "    ind = pairwise_distances(df_rec.loc[title].values.reshape(1,-1), df_rec, metric='cosine').argsort()[0][1:4]\n",
    "    books = df_rec.index[ind]\n",
    "    \n",
    "    titles = []\n",
    "    ratings = []\n",
    "    summaries = []\n",
    "    for i in books:\n",
    "        titles.append(i)\n",
    "        \n",
    "        rating = df.loc[df[\"title\"] == i, \"rating\"].values\n",
    "        ratings.append(rating)\n",
    "        \n",
    "        summary = df.loc[df[\"title\"] == i, \"summary\"].values\n",
    "        summaries.append(summary)\n",
    "    \n",
    "    results = pd.DataFrame(zip(titles, ratings, summaries))\n",
    "    return(results)"
   ]
  },
  {
   "cell_type": "code",
   "execution_count": null,
   "id": "threatened-housing",
   "metadata": {},
   "outputs": [],
   "source": [
    "string = \"okay\"\n",
    "string.lower()"
   ]
  },
  {
   "cell_type": "code",
   "execution_count": null,
   "id": "fourth-gnome",
   "metadata": {
    "scrolled": true
   },
   "outputs": [],
   "source": [
    "recommend3(\"when breath becomes air\")"
   ]
  },
  {
   "cell_type": "code",
   "execution_count": null,
   "id": "agreed-steering",
   "metadata": {},
   "outputs": [],
   "source": [
    "print(\"title: \", title, \"\\n\", \"rating: \"rating, summary)"
   ]
  },
  {
   "cell_type": "code",
   "execution_count": null,
   "id": "grave-annex",
   "metadata": {},
   "outputs": [],
   "source": [
    "# mask = (df.title == \"when breath becomes air\")|\\\n",
    "#        (df.title == \"lessons from a cf cornerman: 38 lessons i learned during my wife's illness and lung transplant\")|\\\n",
    "#        (df.title == \"our time to dance, a mother's journey to joy\") \n",
    "# df[mask]\n",
    "# for i in df.loc[mask, \"summary\"]:\n",
    "#     print(\"Summary: \", i, \"\\n\")"
   ]
  },
  {
   "cell_type": "code",
   "execution_count": null,
   "id": "express-norway",
   "metadata": {},
   "outputs": [],
   "source": [
    "recommend3(\"Being Mortal: Medicine and What Matters in the End\")"
   ]
  },
  {
   "cell_type": "code",
   "execution_count": null,
   "id": "industrial-curtis",
   "metadata": {},
   "outputs": [],
   "source": [
    "recommend3(\"The Tipping Point: How Little Things Can Make a Big Difference\")"
   ]
  },
  {
   "cell_type": "code",
   "execution_count": null,
   "id": "covered-season",
   "metadata": {},
   "outputs": [],
   "source": [
    "# testing, comparing via cosine similarity\n",
    "print(model.similarity('obama', 'clinton'))\n",
    "print(model.similarity('obama', 'reagan'))"
   ]
  },
  {
   "cell_type": "code",
   "execution_count": null,
   "id": "acquired-liver",
   "metadata": {},
   "outputs": [],
   "source": []
  }
 ],
 "metadata": {
  "kernelspec": {
   "display_name": "Python [conda env:metis]",
   "language": "python",
   "name": "conda-env-metis-py"
  },
  "language_info": {
   "codemirror_mode": {
    "name": "ipython",
    "version": 3
   },
   "file_extension": ".py",
   "mimetype": "text/x-python",
   "name": "python",
   "nbconvert_exporter": "python",
   "pygments_lexer": "ipython3",
   "version": "3.8.6"
  }
 },
 "nbformat": 4,
 "nbformat_minor": 5
}
