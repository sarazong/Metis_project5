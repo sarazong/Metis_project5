{
 "cells": [
  {
   "cell_type": "code",
   "execution_count": 1,
   "id": "ranging-ribbon",
   "metadata": {},
   "outputs": [],
   "source": [
    "import numpy as np, pandas as pd\n",
    "import matplotlib.pyplot as plt\n",
    "import time, re\n",
    "from nltk.tokenize import word_tokenize\n",
    "import gensim\n",
    "from gensim.test.utils import datapath, get_tmpfile\n",
    "from gensim.scripts.glove2word2vec import glove2word2vec\n",
    "\n",
    "from sklearn.metrics import pairwise_distances\n",
    "from PIL import Image"
   ]
  },
  {
   "cell_type": "markdown",
   "id": "individual-stanford",
   "metadata": {},
   "source": [
    "### Streamlit: Create dataframe"
   ]
  },
  {
   "cell_type": "code",
   "execution_count": 2,
   "id": "silent-worthy",
   "metadata": {
    "scrolled": true
   },
   "outputs": [
    {
     "data": {
      "text/plain": [
       "(3017, 24)"
      ]
     },
     "execution_count": 2,
     "metadata": {},
     "output_type": "execute_result"
    }
   ],
   "source": [
    "df = pd.read_pickle(\"data/df_with_topic_vecs.pkl\")\n",
    "df.head(3)\n",
    "df.shape"
   ]
  },
  {
   "cell_type": "code",
   "execution_count": 3,
   "id": "applied-capability",
   "metadata": {
    "scrolled": true
   },
   "outputs": [
    {
     "data": {
      "text/plain": [
       "Index(['title', 'author', 'rating', 'num_rating', 'review', 'page', 'year',\n",
       "       'publisher', 'summary', 'language', 'clean_summary', 'topic_1',\n",
       "       'topic_2', 'topic_3', 'topic_4', 'topic_5', 'topic_6', 'topic_7',\n",
       "       'topic_8', 'topic_9', 'topic_10', 'topic_11', 'topic_12', 'topic'],\n",
       "      dtype='object')"
      ]
     },
     "execution_count": 3,
     "metadata": {},
     "output_type": "execute_result"
    }
   ],
   "source": [
    "df.columns"
   ]
  },
  {
   "cell_type": "code",
   "execution_count": null,
   "id": "similar-norman",
   "metadata": {},
   "outputs": [],
   "source": [
    "data_sl = df.loc[:, [\"title\", \"author\", \"rating\", \"num_rating\", \"review\", \"page\", \"year\", \"publisher\", \"summary\", \"topic\"]]"
   ]
  },
  {
   "cell_type": "code",
   "execution_count": null,
   "id": "public-least",
   "metadata": {},
   "outputs": [],
   "source": [
    "data_sl.rename(columns={\"review\":\"num_review\", \"year\":\"year_published\"}, inplace=True)\n",
    "\n",
    "# make title column in df lower case to pull out summary\n",
    "data_sl[\"title\"] = data_sl[\"title\"].apply(lambda x: x.lower())"
   ]
  },
  {
   "cell_type": "code",
   "execution_count": null,
   "id": "satisfactory-architect",
   "metadata": {},
   "outputs": [],
   "source": [
    "topics = [\"biography\", \"business\", \"science\", \"gender\", \"religion\", \"race\",\n",
    "          \"health\", \"world war II\", \"relationship\", \"art\", \"family\", \"british monarch\"]\n",
    "for i in range(1, 13):\n",
    "    data_sl.loc[data_sl.topic == i, \"topic\"] = topics[i-1]"
   ]
  },
  {
   "cell_type": "code",
   "execution_count": null,
   "id": "august-cuisine",
   "metadata": {
    "scrolled": true
   },
   "outputs": [],
   "source": [
    "data_sl.head(3)"
   ]
  },
  {
   "cell_type": "code",
   "execution_count": null,
   "id": "expired-beginning",
   "metadata": {},
   "outputs": [],
   "source": [
    "title = \"the sun\"\n",
    "\n",
    "for i in [data_sl.loc[data_sl[\"title\"].str.contains(\"^\"+title.lower()), \"title\"]]:\n",
    "    print(i)"
   ]
  },
  {
   "cell_type": "code",
   "execution_count": null,
   "id": "forbidden-pitch",
   "metadata": {},
   "outputs": [],
   "source": [
    "#randomly generating a book title from the dataset\n",
    "data_sl.loc[np.random.choice(data_sl.index, size=1),\"title\"].values[0]"
   ]
  },
  {
   "cell_type": "code",
   "execution_count": null,
   "id": "specific-pepper",
   "metadata": {
    "scrolled": true
   },
   "outputs": [],
   "source": [
    "# # plot for streamlit\n",
    "# df_plot = pd.DataFrame(data_sl.topic.value_counts())\n",
    "\n",
    "# import matplotlib.pyplot as plt, seaborn as sns\n",
    "# %matplotlib inline\n",
    "# plt.style.use(\"seaborn\")\n",
    "\n",
    "# plt.rcParams[\"figure.figsize\"] = [6, 3]\n",
    "# plt.rcParams['figure.dpi'] = 300\n",
    "\n",
    "# fig, ax = plt.subplots()\n",
    "# bars = ax.bar(df_plot.index, df_plot.topic)\n",
    "# for bar in range(0, 12, 2):\n",
    "#     bars[bar].set_color(\"darkmagenta\")\n",
    "# for bar in range(1, 13, 2):\n",
    "#     bars[bar].set_color(\"plum\")\n",
    "# ax.set_xticks(list(range(12)))\n",
    "# ax.set_xticklabels(list(df_plot.index), rotation = 60)\n",
    "# ax.set_title(\"Number of Books per Topic\", fontsize=15)\n",
    "# ax.set_ylabel(\"Number of Books\");"
   ]
  },
  {
   "cell_type": "code",
   "execution_count": null,
   "id": "textile-booking",
   "metadata": {},
   "outputs": [],
   "source": [
    "#data_sl.to_pickle(\"data/data_for_streamlit.pkl\")"
   ]
  },
  {
   "cell_type": "code",
   "execution_count": null,
   "id": "global-floor",
   "metadata": {},
   "outputs": [],
   "source": [
    "# sample = np.random.choice(data_sl.index, size=6, replace=False)\n",
    "# print(sample)\n",
    "\n",
    "# for i in data_sl.loc[[149,339,1650,1972,2912,3170], \"title\"].sort_index():\n",
    "#     print(\"title:\", i, \"\\n\")"
   ]
  },
  {
   "cell_type": "markdown",
   "id": "mysterious-uganda",
   "metadata": {},
   "source": [
    "### Streamlit: explore recommendations based on topics and rating"
   ]
  },
  {
   "cell_type": "code",
   "execution_count": null,
   "id": "conventional-drink",
   "metadata": {},
   "outputs": [],
   "source": [
    "mask = (data_sl[\"topic\"] == \"health\")\n",
    "bks = data_sl[mask]\n",
    "rating = 5\n",
    "\n",
    "# sample = np.random.choice(science_bks.index, size=6, replace=False)\n",
    "# print(sample)"
   ]
  },
  {
   "cell_type": "code",
   "execution_count": null,
   "id": "pending-entertainment",
   "metadata": {},
   "outputs": [],
   "source": [
    "df1 = bks.sort_values(\"rating\", ascending=False)\n",
    "df1.head(10)"
   ]
  },
  {
   "cell_type": "code",
   "execution_count": null,
   "id": "intellectual-steering",
   "metadata": {},
   "outputs": [],
   "source": [
    "df2 = df1[df1[\"rating\"] >= 4.6]\n",
    "df2"
   ]
  },
  {
   "cell_type": "code",
   "execution_count": null,
   "id": "located-chapter",
   "metadata": {},
   "outputs": [],
   "source": [
    "ind = np.random.choice(df2.index, size=2, replace=False)\n",
    "books = df2.loc[ind, :]\n",
    "for ind in books.index:\n",
    "    title = books.loc[ind, \"title\"]\n",
    "    summary = books.loc[ind, \"summary\"]\n",
    "    rating = books.loc[ind, \"rating\"]\n",
    "    author = books.loc[ind, \"author\"]\n",
    "    print(\"Title: \", title.title(), \"\\n\")\n",
    "    print(\"Rating (scale 0-5): \", rating, \"; and Author: \", author, \"\\n\")\n",
    "    print(\"Summary: \" , summary, \"\\n\")"
   ]
  },
  {
   "cell_type": "code",
   "execution_count": null,
   "id": "leading-verse",
   "metadata": {},
   "outputs": [],
   "source": [
    "img = Image.open(\"/Users/sarazzzz/Desktop/Metis/CAMP/Metis_project5/book_images/book2658.jpg\")\n",
    "plt.imshow(img)\n",
    "plt.xticks([])\n",
    "plt.yticks([]);\n",
    "#plt.savefig(\"images/science_example1.svg\");"
   ]
  },
  {
   "cell_type": "code",
   "execution_count": null,
   "id": "located-nickel",
   "metadata": {},
   "outputs": [],
   "source": [
    "img3 = Image.open(\"/Users/sarazzzz/Desktop/Metis/CAMP/Metis_project5/book_images/book159.jpg\")\n",
    "plt.imshow(img3)\n",
    "plt.xticks([])\n",
    "plt.yticks([]);\n",
    "#plt.savefig(\"images/science_example2.svg\");"
   ]
  },
  {
   "cell_type": "markdown",
   "id": "powerful-latex",
   "metadata": {},
   "source": [
    "### Recommendation system based on topic vectors:"
   ]
  },
  {
   "cell_type": "code",
   "execution_count": 4,
   "id": "synthetic-processor",
   "metadata": {},
   "outputs": [],
   "source": [
    "df_rec = df.loc[:, [\"title\", \"topic_1\", \"topic_2\", \"topic_3\", \"topic_4\", \"topic_5\", \"topic_6\",\n",
    "                    \"topic_7\", \"topic_8\", \"topic_9\", \"topic_10\", \"topic_11\", \"topic_12\"]].set_index(\"title\")"
   ]
  },
  {
   "cell_type": "code",
   "execution_count": 5,
   "id": "friendly-seventh",
   "metadata": {
    "scrolled": true
   },
   "outputs": [
    {
     "data": {
      "text/html": [
       "<div>\n",
       "<style scoped>\n",
       "    .dataframe tbody tr th:only-of-type {\n",
       "        vertical-align: middle;\n",
       "    }\n",
       "\n",
       "    .dataframe tbody tr th {\n",
       "        vertical-align: top;\n",
       "    }\n",
       "\n",
       "    .dataframe thead th {\n",
       "        text-align: right;\n",
       "    }\n",
       "</style>\n",
       "<table border=\"1\" class=\"dataframe\">\n",
       "  <thead>\n",
       "    <tr style=\"text-align: right;\">\n",
       "      <th></th>\n",
       "      <th>topic_1</th>\n",
       "      <th>topic_2</th>\n",
       "      <th>topic_3</th>\n",
       "      <th>topic_4</th>\n",
       "      <th>topic_5</th>\n",
       "      <th>topic_6</th>\n",
       "      <th>topic_7</th>\n",
       "      <th>topic_8</th>\n",
       "      <th>topic_9</th>\n",
       "      <th>topic_10</th>\n",
       "      <th>topic_11</th>\n",
       "      <th>topic_12</th>\n",
       "    </tr>\n",
       "    <tr>\n",
       "      <th>title</th>\n",
       "      <th></th>\n",
       "      <th></th>\n",
       "      <th></th>\n",
       "      <th></th>\n",
       "      <th></th>\n",
       "      <th></th>\n",
       "      <th></th>\n",
       "      <th></th>\n",
       "      <th></th>\n",
       "      <th></th>\n",
       "      <th></th>\n",
       "      <th></th>\n",
       "    </tr>\n",
       "  </thead>\n",
       "  <tbody>\n",
       "    <tr>\n",
       "      <th>the diary of a young girl</th>\n",
       "      <td>0.0223</td>\n",
       "      <td>0.0000</td>\n",
       "      <td>0.0295</td>\n",
       "      <td>0.0285</td>\n",
       "      <td>0.0</td>\n",
       "      <td>0.0</td>\n",
       "      <td>0.0</td>\n",
       "      <td>0.0702</td>\n",
       "      <td>0.0</td>\n",
       "      <td>0.0038</td>\n",
       "      <td>0.0793</td>\n",
       "      <td>0.0179</td>\n",
       "    </tr>\n",
       "    <tr>\n",
       "      <th>night</th>\n",
       "      <td>0.0073</td>\n",
       "      <td>0.0000</td>\n",
       "      <td>0.0000</td>\n",
       "      <td>0.0000</td>\n",
       "      <td>0.0</td>\n",
       "      <td>0.0</td>\n",
       "      <td>0.0</td>\n",
       "      <td>0.0216</td>\n",
       "      <td>0.0</td>\n",
       "      <td>0.0171</td>\n",
       "      <td>0.0649</td>\n",
       "      <td>0.0035</td>\n",
       "    </tr>\n",
       "    <tr>\n",
       "      <th>being and time</th>\n",
       "      <td>0.0000</td>\n",
       "      <td>0.0023</td>\n",
       "      <td>0.0166</td>\n",
       "      <td>0.0000</td>\n",
       "      <td>0.0</td>\n",
       "      <td>0.0</td>\n",
       "      <td>0.0</td>\n",
       "      <td>0.0000</td>\n",
       "      <td>0.0</td>\n",
       "      <td>0.1318</td>\n",
       "      <td>0.0000</td>\n",
       "      <td>0.0000</td>\n",
       "    </tr>\n",
       "  </tbody>\n",
       "</table>\n",
       "</div>"
      ],
      "text/plain": [
       "                           topic_1  topic_2  topic_3  topic_4  topic_5  \\\n",
       "title                                                                    \n",
       "the diary of a young girl   0.0223   0.0000   0.0295   0.0285      0.0   \n",
       "night                       0.0073   0.0000   0.0000   0.0000      0.0   \n",
       "being and time              0.0000   0.0023   0.0166   0.0000      0.0   \n",
       "\n",
       "                           topic_6  topic_7  topic_8  topic_9  topic_10  \\\n",
       "title                                                                     \n",
       "the diary of a young girl      0.0      0.0   0.0702      0.0    0.0038   \n",
       "night                          0.0      0.0   0.0216      0.0    0.0171   \n",
       "being and time                 0.0      0.0   0.0000      0.0    0.1318   \n",
       "\n",
       "                           topic_11  topic_12  \n",
       "title                                          \n",
       "the diary of a young girl    0.0793    0.0179  \n",
       "night                        0.0649    0.0035  \n",
       "being and time               0.0000    0.0000  "
      ]
     },
     "execution_count": 5,
     "metadata": {},
     "output_type": "execute_result"
    }
   ],
   "source": [
    "# make book title lower case so search for title is not case sensitive\n",
    "df_rec.index = df_rec.index.str.lower()\n",
    "df_rec.head(3)"
   ]
  },
  {
   "cell_type": "code",
   "execution_count": 6,
   "id": "exclusive-segment",
   "metadata": {
    "scrolled": true
   },
   "outputs": [
    {
     "data": {
      "text/plain": [
       "topic_1     0.0513\n",
       "topic_2     0.0147\n",
       "topic_3     0.0147\n",
       "topic_4     0.0000\n",
       "topic_5     0.0085\n",
       "topic_6     0.0000\n",
       "topic_7     0.0729\n",
       "topic_8     0.0000\n",
       "topic_9     0.0170\n",
       "topic_10    0.0000\n",
       "topic_11    0.0269\n",
       "topic_12    0.0041\n",
       "Name: when breath becomes air, dtype: float64"
      ]
     },
     "execution_count": 6,
     "metadata": {},
     "output_type": "execute_result"
    }
   ],
   "source": [
    "# topic vector for When Breath Becomes Air\n",
    "df_rec.loc['when breath becomes air']"
   ]
  },
  {
   "cell_type": "code",
   "execution_count": 7,
   "id": "imposed-cambodia",
   "metadata": {},
   "outputs": [],
   "source": [
    "def recommend(title):\n",
    "    title = title.lower()\n",
    "    ind = pairwise_distances(df_rec.loc[title].values.reshape(1,-1), df_rec, metric='cosine').argsort()[0][:6]\n",
    "    return df_rec.index[ind]"
   ]
  },
  {
   "cell_type": "code",
   "execution_count": 8,
   "id": "colored-gnome",
   "metadata": {
    "scrolled": false
   },
   "outputs": [
    {
     "data": {
      "text/plain": [
       "Index(['quiet: the power of introverts in a world that can't stop talking',\n",
       "       'modern real estate investing: the delaware statutory trust',\n",
       "       'the power of habit: why we do what we do in life and business',\n",
       "       'a newborn business: esports',\n",
       "       'creativity, inc.: overcoming the unseen forces that stand in the way of true inspiration',\n",
       "       'naked economics: undressing the dismal science'],\n",
       "      dtype='object', name='title')"
      ]
     },
     "execution_count": 8,
     "metadata": {},
     "output_type": "execute_result"
    }
   ],
   "source": [
    "recommend(\"Quiet: The Power Of Introverts In A World That Can'T Stop Talking\")"
   ]
  },
  {
   "cell_type": "code",
   "execution_count": 9,
   "id": "composite-wright",
   "metadata": {},
   "outputs": [
    {
     "data": {
      "text/plain": [
       "Index(['when breath becomes air',\n",
       "       'many lives, many masters: the true story of a prominent psychiatrist, his young patient, and the past life therapy that changed both their lives',\n",
       "       'autobiography of a face',\n",
       "       'an unquiet mind: a memoir of moods and madness',\n",
       "       'animal, vegetable, miracle: a year of food life',\n",
       "       'hope is my wingman'],\n",
       "      dtype='object', name='title')"
      ]
     },
     "execution_count": 9,
     "metadata": {},
     "output_type": "execute_result"
    }
   ],
   "source": [
    "recommend(\"when breath becomes air\")"
   ]
  },
  {
   "cell_type": "code",
   "execution_count": 10,
   "id": "affecting-density",
   "metadata": {},
   "outputs": [
    {
     "data": {
      "text/plain": [
       "Index(['man's search for meaning',\n",
       "       'hello from heaven: a new field of research-after-death communication confirms that life and love are eternal',\n",
       "       'all creatures great and small',\n",
       "       'the man who mistook his wife for a hat and other clinical tales',\n",
       "       'the great penguin rescue: 40,000 penguins, a devastating oil spill and the inspiring story of the world's largest animal rescue',\n",
       "       'danger to society'],\n",
       "      dtype='object', name='title')"
      ]
     },
     "execution_count": 10,
     "metadata": {},
     "output_type": "execute_result"
    }
   ],
   "source": [
    "recommend(\"man's search for meaning\")"
   ]
  },
  {
   "cell_type": "code",
   "execution_count": 11,
   "id": "subsequent-tolerance",
   "metadata": {},
   "outputs": [
    {
     "data": {
      "text/plain": [
       "Index(['how to win friends and influence people',\n",
       "       'summary of essentialism: by greg mckeown | includes analysis',\n",
       "       'explosive growth: a few things i learned while growing to 100 million users - and losing $78 million',\n",
       "       'introverts: leverage your strengths for an effective job search',\n",
       "       'boomer reinvention: how to create your dream career over 50',\n",
       "       'micromba skills : compilation of case studies made easy for mbas and non-mbas'],\n",
       "      dtype='object', name='title')"
      ]
     },
     "execution_count": 11,
     "metadata": {},
     "output_type": "execute_result"
    }
   ],
   "source": [
    "recommend(\"How to win friends and influence people\")"
   ]
  },
  {
   "cell_type": "code",
   "execution_count": 12,
   "id": "underlying-native",
   "metadata": {},
   "outputs": [],
   "source": [
    "# make title column in df lower case to pull out summary\n",
    "df[\"title\"] = df[\"title\"].apply(lambda x: x.lower())"
   ]
  },
  {
   "cell_type": "code",
   "execution_count": null,
   "id": "offshore-lodging",
   "metadata": {
    "scrolled": true
   },
   "outputs": [],
   "source": [
    "# mask = (df.title == \"when breath becomes air\")|\\\n",
    "#        (df.title == \"many lives, many masters: the true story of a prominent psychiatrist, his young patient, and the past life therapy that changed both their lives\")|\\\n",
    "#        (df.title == \"autobiography of a face\")\n",
    "       \n",
    "# df[mask]\n",
    "# for i in df.loc[mask, \"summary\"]:\n",
    "#     print(\"Summary: \", i, \"\\n\")"
   ]
  },
  {
   "cell_type": "code",
   "execution_count": null,
   "id": "adjusted-potato",
   "metadata": {
    "scrolled": false
   },
   "outputs": [],
   "source": [
    "recommend(\"Being Mortal: Medicine and What Matters in the End\")"
   ]
  },
  {
   "cell_type": "code",
   "execution_count": null,
   "id": "stuck-football",
   "metadata": {},
   "outputs": [],
   "source": [
    "# mask = (df.title == \"added sugars-the slow poison\") |\\\n",
    "#        (df.title == \"being mortal: medicine and what matters in the end\")|\\\n",
    "#        (df.title == \"surgeon's story: inside or-1 with one of america's top pediatric heart surgeons\")\n",
    "       \n",
    "       \n",
    "# df[mask]\n",
    "# for i in df.loc[mask, \"summary\"]:\n",
    "#     print(\"Summary: \", i, \"\\n\")"
   ]
  },
  {
   "cell_type": "code",
   "execution_count": null,
   "id": "fundamental-russia",
   "metadata": {
    "scrolled": true
   },
   "outputs": [],
   "source": [
    "recommend(\"The Tipping Point: How Little Things Can Make a Big Difference\")"
   ]
  },
  {
   "cell_type": "code",
   "execution_count": null,
   "id": "neither-mattress",
   "metadata": {},
   "outputs": [],
   "source": [
    "# mask = (df.title == \"the tipping point: how little things can make a big difference\") |\\\n",
    "#        (df.title == \"the signal and the noise: why so many predictions fail—but some don't\")|\\\n",
    "#        (df.title == \"the spirit level: why more equal societies almost always do better\")\n",
    "# df[mask]\n",
    "# for i in df.loc[mask, \"summary\"]:\n",
    "#     print(\"Summary: \", i, \"\\n\")"
   ]
  },
  {
   "cell_type": "markdown",
   "id": "devoted-flesh",
   "metadata": {},
   "source": [
    "### Word embedding with GloVe:"
   ]
  },
  {
   "cell_type": "code",
   "execution_count": 13,
   "id": "intermediate-sense",
   "metadata": {},
   "outputs": [],
   "source": [
    "glove_file = datapath(\"/Users/sarazzzz/Downloads/glove/glove.6B.100d.txt\")\n",
    "tmp_file = get_tmpfile(\"glove_word2vec.txt\")\n",
    "\n",
    "glove2word2vec(glove_file, tmp_file)\n",
    "model = gensim.models.KeyedVectors.load_word2vec_format(tmp_file)"
   ]
  },
  {
   "cell_type": "code",
   "execution_count": 14,
   "id": "statewide-trigger",
   "metadata": {},
   "outputs": [
    {
     "name": "stdout",
     "output_type": "stream",
     "text": [
      "0.8960004\n",
      "0.6169825\n"
     ]
    }
   ],
   "source": [
    "# testing, comparing via cosine similarity\n",
    "print(model.similarity('obama', 'clinton'))\n",
    "print(model.similarity('obama', 'reagan'))"
   ]
  },
  {
   "cell_type": "code",
   "execution_count": 15,
   "id": "virgin-judge",
   "metadata": {
    "scrolled": true
   },
   "outputs": [
    {
     "data": {
      "text/html": [
       "<div>\n",
       "<style scoped>\n",
       "    .dataframe tbody tr th:only-of-type {\n",
       "        vertical-align: middle;\n",
       "    }\n",
       "\n",
       "    .dataframe tbody tr th {\n",
       "        vertical-align: top;\n",
       "    }\n",
       "\n",
       "    .dataframe thead th {\n",
       "        text-align: right;\n",
       "    }\n",
       "</style>\n",
       "<table border=\"1\" class=\"dataframe\">\n",
       "  <thead>\n",
       "    <tr style=\"text-align: right;\">\n",
       "      <th></th>\n",
       "      <th>title</th>\n",
       "      <th>author</th>\n",
       "      <th>rating</th>\n",
       "      <th>num_rating</th>\n",
       "      <th>review</th>\n",
       "      <th>page</th>\n",
       "      <th>year</th>\n",
       "      <th>publisher</th>\n",
       "      <th>summary</th>\n",
       "      <th>language</th>\n",
       "      <th>clean_summary</th>\n",
       "    </tr>\n",
       "  </thead>\n",
       "  <tbody>\n",
       "    <tr>\n",
       "      <th>0</th>\n",
       "      <td>The Diary of a Young Girl</td>\n",
       "      <td>Anne Frank</td>\n",
       "      <td>4.16</td>\n",
       "      <td>2887098</td>\n",
       "      <td>30439</td>\n",
       "      <td>283.0</td>\n",
       "      <td>July 1993</td>\n",
       "      <td>by Bantam</td>\n",
       "      <td>Discovered in the attic in which she spent the...</td>\n",
       "      <td>en</td>\n",
       "      <td>discovered in the attic in which she spent the...</td>\n",
       "    </tr>\n",
       "    <tr>\n",
       "      <th>1</th>\n",
       "      <td>Night</td>\n",
       "      <td>Elie Wiesel</td>\n",
       "      <td>4.34</td>\n",
       "      <td>1008920</td>\n",
       "      <td>30066</td>\n",
       "      <td>115.0</td>\n",
       "      <td>January 16th 2006</td>\n",
       "      <td>by Hill &amp; Wang</td>\n",
       "      <td>Born in the town of Sighet, Transylvania, Elie...</td>\n",
       "      <td>en</td>\n",
       "      <td>born in the town of sighet transylvania elie w...</td>\n",
       "    </tr>\n",
       "    <tr>\n",
       "      <th>2</th>\n",
       "      <td>Being and Time</td>\n",
       "      <td>Martin Heidegger</td>\n",
       "      <td>4.03</td>\n",
       "      <td>20738</td>\n",
       "      <td>613</td>\n",
       "      <td>589.0</td>\n",
       "      <td>August 1st 1962</td>\n",
       "      <td>by Harper &amp; Row (NYC/Evanston)</td>\n",
       "      <td>One of the most important philosophical works ...</td>\n",
       "      <td>en</td>\n",
       "      <td>one of the most important philosophical work o...</td>\n",
       "    </tr>\n",
       "    <tr>\n",
       "      <th>3</th>\n",
       "      <td>Hiroshima</td>\n",
       "      <td>John Hersey</td>\n",
       "      <td>3.99</td>\n",
       "      <td>63589</td>\n",
       "      <td>3332</td>\n",
       "      <td>152.0</td>\n",
       "      <td>March 4th 1989</td>\n",
       "      <td>by Vintage</td>\n",
       "      <td>On August 6, 1945, Hiroshima was destroyed by ...</td>\n",
       "      <td>en</td>\n",
       "      <td>on august hiroshima wa destroyed by the first ...</td>\n",
       "    </tr>\n",
       "    <tr>\n",
       "      <th>4</th>\n",
       "      <td>Into Thin Air: A Personal Account of the Mount...</td>\n",
       "      <td>Jon Krakauer</td>\n",
       "      <td>4.19</td>\n",
       "      <td>411855</td>\n",
       "      <td>14209</td>\n",
       "      <td>368.0</td>\n",
       "      <td>October 19th 1999</td>\n",
       "      <td>by Anchor Books</td>\n",
       "      <td>A bank of clouds was assembling on the not-so-...</td>\n",
       "      <td>en</td>\n",
       "      <td>a bank of cloud wa assembling on the not so di...</td>\n",
       "    </tr>\n",
       "  </tbody>\n",
       "</table>\n",
       "</div>"
      ],
      "text/plain": [
       "                                               title            author  \\\n",
       "0                          The Diary of a Young Girl        Anne Frank   \n",
       "1                                              Night       Elie Wiesel   \n",
       "2                                     Being and Time  Martin Heidegger   \n",
       "3                                          Hiroshima       John Hersey   \n",
       "4  Into Thin Air: A Personal Account of the Mount...      Jon Krakauer   \n",
       "\n",
       "   rating  num_rating  review   page               year  \\\n",
       "0    4.16     2887098   30439  283.0          July 1993   \n",
       "1    4.34     1008920   30066  115.0  January 16th 2006   \n",
       "2    4.03       20738     613  589.0    August 1st 1962   \n",
       "3    3.99       63589    3332  152.0     March 4th 1989   \n",
       "4    4.19      411855   14209  368.0  October 19th 1999   \n",
       "\n",
       "                        publisher  \\\n",
       "0                       by Bantam   \n",
       "1                  by Hill & Wang   \n",
       "2  by Harper & Row (NYC/Evanston)   \n",
       "3                      by Vintage   \n",
       "4                 by Anchor Books   \n",
       "\n",
       "                                             summary language  \\\n",
       "0  Discovered in the attic in which she spent the...       en   \n",
       "1  Born in the town of Sighet, Transylvania, Elie...       en   \n",
       "2  One of the most important philosophical works ...       en   \n",
       "3  On August 6, 1945, Hiroshima was destroyed by ...       en   \n",
       "4  A bank of clouds was assembling on the not-so-...       en   \n",
       "\n",
       "                                       clean_summary  \n",
       "0  discovered in the attic in which she spent the...  \n",
       "1  born in the town of sighet transylvania elie w...  \n",
       "2  one of the most important philosophical work o...  \n",
       "3  on august hiroshima wa destroyed by the first ...  \n",
       "4  a bank of cloud wa assembling on the not so di...  "
      ]
     },
     "execution_count": 15,
     "metadata": {},
     "output_type": "execute_result"
    }
   ],
   "source": [
    "df = pd.read_pickle(\"data/clean_summary.pkl\")\n",
    "df.head()"
   ]
  },
  {
   "cell_type": "code",
   "execution_count": 16,
   "id": "invisible-terrorism",
   "metadata": {},
   "outputs": [],
   "source": [
    "def clean_text(text):\n",
    "    \"\"\"Cleans text by making text lowercase, removing words containing numbers, and extracting only words.\n",
    "       Parameters: strings of text\n",
    "       Returns: cleaned text\n",
    "    \"\"\"\n",
    "    text = text.lower()\n",
    "    text = re.sub(\"['’]\", \"\", text)\n",
    "    text = re.sub(\"\\n\", \" \", text)\n",
    "    text = re.sub(\"\\w*\\d\\w*\", \"\", text)\n",
    "    text = re.sub(\"[^a-z\\s]\", \" \", text)\n",
    "\n",
    "    return text    "
   ]
  },
  {
   "cell_type": "code",
   "execution_count": 17,
   "id": "bigger-indication",
   "metadata": {},
   "outputs": [],
   "source": [
    "# clean book summary and add it back to the data frame as clean_summary WITHOUT lemmatization\n",
    "df[\"clean_summary\"] = df[\"summary\"].apply(clean_text)"
   ]
  },
  {
   "cell_type": "code",
   "execution_count": 18,
   "id": "diagnostic-concept",
   "metadata": {
    "scrolled": true
   },
   "outputs": [
    {
     "name": "stdout",
     "output_type": "stream",
     "text": [
      "['discovered', 'in', 'the', 'attic', 'in', 'which', 'she', 'spent', 'the', 'last', 'years', 'of', 'her', 'life', 'anne', 'franks', 'remarkable', 'diary', 'has', 'become', 'a', 'world', 'classic', 'a', 'powerful', 'reminder', 'of', 'the', 'horrors', 'of', 'war', 'and', 'an', 'eloquent', 'testament', 'to', 'the', 'human', 'spirit', 'in', 'with', 'the', 'nazis', 'occupying', 'holland', 'a', 'thirteen', 'year', 'old', 'jewish', 'girl', 'and', 'her', 'family', 'fled', 'their', 'home', 'in', 'amsterdam', 'and', 'went', 'into', 'hiding', 'for', 'the', 'next', 'two', 'years', 'until', 'their', 'whereabouts', 'were', 'betrayed', 'to', 'the', 'gestapo', 'the', 'franks', 'and', 'another', 'family', 'lived', 'cloistered', 'in', 'the', 'secret', 'annexe', 'of', 'an', 'old', 'office', 'building', 'cut', 'off', 'from', 'the', 'outside', 'world', 'they', 'faced', 'hunger', 'boredom', 'the', 'constant', 'cruelties', 'of', 'living', 'in', 'confined', 'quarters', 'and', 'the', 'ever', 'present', 'threat', 'of', 'discovery', 'and', 'death', 'in', 'her', 'diary', 'anne', 'frank', 'recorded', 'vivid', 'impressions', 'of', 'her', 'experiences', 'during', 'this', 'period', 'by', 'turns', 'thoughtful', 'moving', 'and', 'surprisingly', 'humorous', 'her', 'account', 'offers', 'a', 'fascinating', 'commentary', 'on', 'human', 'courage', 'and', 'frailty', 'and', 'a', 'compelling', 'self', 'portrait', 'of', 'a', 'sensitive', 'and', 'spirited', 'young', 'woman', 'whose', 'promise', 'was', 'tragically', 'cut', 'short', 'back', 'cover']\n"
     ]
    }
   ],
   "source": [
    "text = df.iloc[0, -1]\n",
    "\n",
    "text_tokens = word_tokenize(text)\n",
    "print(text_tokens)"
   ]
  },
  {
   "cell_type": "code",
   "execution_count": 19,
   "id": "mounted-circuit",
   "metadata": {},
   "outputs": [],
   "source": [
    "vec_list = []\n",
    "for word in set(text_tokens):\n",
    "    try:\n",
    "        vec_list.append(model[word])\n",
    "    except:\n",
    "        print(word)"
   ]
  },
  {
   "cell_type": "code",
   "execution_count": 20,
   "id": "affecting-equipment",
   "metadata": {
    "scrolled": true
   },
   "outputs": [
    {
     "name": "stdout",
     "output_type": "stream",
     "text": [
      "(117, 100)\n"
     ]
    },
    {
     "data": {
      "text/html": [
       "<div>\n",
       "<style scoped>\n",
       "    .dataframe tbody tr th:only-of-type {\n",
       "        vertical-align: middle;\n",
       "    }\n",
       "\n",
       "    .dataframe tbody tr th {\n",
       "        vertical-align: top;\n",
       "    }\n",
       "\n",
       "    .dataframe thead th {\n",
       "        text-align: right;\n",
       "    }\n",
       "</style>\n",
       "<table border=\"1\" class=\"dataframe\">\n",
       "  <thead>\n",
       "    <tr style=\"text-align: right;\">\n",
       "      <th></th>\n",
       "      <th>0</th>\n",
       "      <th>1</th>\n",
       "      <th>2</th>\n",
       "      <th>3</th>\n",
       "      <th>4</th>\n",
       "      <th>5</th>\n",
       "      <th>6</th>\n",
       "      <th>7</th>\n",
       "      <th>8</th>\n",
       "      <th>9</th>\n",
       "      <th>...</th>\n",
       "      <th>90</th>\n",
       "      <th>91</th>\n",
       "      <th>92</th>\n",
       "      <th>93</th>\n",
       "      <th>94</th>\n",
       "      <th>95</th>\n",
       "      <th>96</th>\n",
       "      <th>97</th>\n",
       "      <th>98</th>\n",
       "      <th>99</th>\n",
       "    </tr>\n",
       "  </thead>\n",
       "  <tbody>\n",
       "    <tr>\n",
       "      <th>0</th>\n",
       "      <td>0.621710</td>\n",
       "      <td>-0.133380</td>\n",
       "      <td>0.11765</td>\n",
       "      <td>-0.48472</td>\n",
       "      <td>0.355910</td>\n",
       "      <td>0.34717</td>\n",
       "      <td>0.42381</td>\n",
       "      <td>0.409770</td>\n",
       "      <td>-0.17738</td>\n",
       "      <td>-0.15945</td>\n",
       "      <td>...</td>\n",
       "      <td>-0.26725</td>\n",
       "      <td>-0.412530</td>\n",
       "      <td>-0.031134</td>\n",
       "      <td>0.389490</td>\n",
       "      <td>-0.856420</td>\n",
       "      <td>0.041839</td>\n",
       "      <td>-0.089404</td>\n",
       "      <td>0.51396</td>\n",
       "      <td>0.249830</td>\n",
       "      <td>-0.278810</td>\n",
       "    </tr>\n",
       "    <tr>\n",
       "      <th>1</th>\n",
       "      <td>0.081466</td>\n",
       "      <td>0.260430</td>\n",
       "      <td>0.57471</td>\n",
       "      <td>-0.86109</td>\n",
       "      <td>-0.040796</td>\n",
       "      <td>0.38158</td>\n",
       "      <td>-0.30950</td>\n",
       "      <td>0.254250</td>\n",
       "      <td>-0.20413</td>\n",
       "      <td>-0.41511</td>\n",
       "      <td>...</td>\n",
       "      <td>-0.46803</td>\n",
       "      <td>0.084476</td>\n",
       "      <td>-0.311920</td>\n",
       "      <td>0.257940</td>\n",
       "      <td>-0.640030</td>\n",
       "      <td>-0.318810</td>\n",
       "      <td>0.089077</td>\n",
       "      <td>0.51851</td>\n",
       "      <td>0.474580</td>\n",
       "      <td>-0.076461</td>\n",
       "    </tr>\n",
       "    <tr>\n",
       "      <th>2</th>\n",
       "      <td>0.138110</td>\n",
       "      <td>0.657090</td>\n",
       "      <td>-0.28635</td>\n",
       "      <td>0.24526</td>\n",
       "      <td>0.657830</td>\n",
       "      <td>0.46772</td>\n",
       "      <td>-0.29231</td>\n",
       "      <td>-0.307560</td>\n",
       "      <td>-0.63843</td>\n",
       "      <td>-0.29670</td>\n",
       "      <td>...</td>\n",
       "      <td>0.56564</td>\n",
       "      <td>-0.819170</td>\n",
       "      <td>1.136600</td>\n",
       "      <td>0.082616</td>\n",
       "      <td>-0.037658</td>\n",
       "      <td>-0.251620</td>\n",
       "      <td>-0.432330</td>\n",
       "      <td>-1.12760</td>\n",
       "      <td>-0.626250</td>\n",
       "      <td>-0.643220</td>\n",
       "    </tr>\n",
       "    <tr>\n",
       "      <th>3</th>\n",
       "      <td>-0.590680</td>\n",
       "      <td>-0.087248</td>\n",
       "      <td>-0.49688</td>\n",
       "      <td>0.37031</td>\n",
       "      <td>-0.380780</td>\n",
       "      <td>0.80878</td>\n",
       "      <td>-0.34320</td>\n",
       "      <td>-0.043514</td>\n",
       "      <td>-0.47491</td>\n",
       "      <td>-0.22881</td>\n",
       "      <td>...</td>\n",
       "      <td>-0.51219</td>\n",
       "      <td>0.706310</td>\n",
       "      <td>-0.063090</td>\n",
       "      <td>0.038267</td>\n",
       "      <td>0.211810</td>\n",
       "      <td>-0.404550</td>\n",
       "      <td>-0.033849</td>\n",
       "      <td>-0.64935</td>\n",
       "      <td>0.215180</td>\n",
       "      <td>0.356440</td>\n",
       "    </tr>\n",
       "    <tr>\n",
       "      <th>4</th>\n",
       "      <td>-0.470180</td>\n",
       "      <td>0.011195</td>\n",
       "      <td>0.77701</td>\n",
       "      <td>0.22822</td>\n",
       "      <td>-0.479800</td>\n",
       "      <td>-0.83984</td>\n",
       "      <td>-1.05150</td>\n",
       "      <td>-0.391060</td>\n",
       "      <td>0.57898</td>\n",
       "      <td>0.30948</td>\n",
       "      <td>...</td>\n",
       "      <td>-0.61708</td>\n",
       "      <td>0.471160</td>\n",
       "      <td>-0.054940</td>\n",
       "      <td>-0.110130</td>\n",
       "      <td>-0.568390</td>\n",
       "      <td>0.950270</td>\n",
       "      <td>-0.303360</td>\n",
       "      <td>-0.56038</td>\n",
       "      <td>-0.074974</td>\n",
       "      <td>0.096481</td>\n",
       "    </tr>\n",
       "  </tbody>\n",
       "</table>\n",
       "<p>5 rows × 100 columns</p>\n",
       "</div>"
      ],
      "text/plain": [
       "         0         1        2        3         4        5        6         7   \\\n",
       "0  0.621710 -0.133380  0.11765 -0.48472  0.355910  0.34717  0.42381  0.409770   \n",
       "1  0.081466  0.260430  0.57471 -0.86109 -0.040796  0.38158 -0.30950  0.254250   \n",
       "2  0.138110  0.657090 -0.28635  0.24526  0.657830  0.46772 -0.29231 -0.307560   \n",
       "3 -0.590680 -0.087248 -0.49688  0.37031 -0.380780  0.80878 -0.34320 -0.043514   \n",
       "4 -0.470180  0.011195  0.77701  0.22822 -0.479800 -0.83984 -1.05150 -0.391060   \n",
       "\n",
       "        8        9   ...       90        91        92        93        94  \\\n",
       "0 -0.17738 -0.15945  ... -0.26725 -0.412530 -0.031134  0.389490 -0.856420   \n",
       "1 -0.20413 -0.41511  ... -0.46803  0.084476 -0.311920  0.257940 -0.640030   \n",
       "2 -0.63843 -0.29670  ...  0.56564 -0.819170  1.136600  0.082616 -0.037658   \n",
       "3 -0.47491 -0.22881  ... -0.51219  0.706310 -0.063090  0.038267  0.211810   \n",
       "4  0.57898  0.30948  ... -0.61708  0.471160 -0.054940 -0.110130 -0.568390   \n",
       "\n",
       "         95        96       97        98        99  \n",
       "0  0.041839 -0.089404  0.51396  0.249830 -0.278810  \n",
       "1 -0.318810  0.089077  0.51851  0.474580 -0.076461  \n",
       "2 -0.251620 -0.432330 -1.12760 -0.626250 -0.643220  \n",
       "3 -0.404550 -0.033849 -0.64935  0.215180  0.356440  \n",
       "4  0.950270 -0.303360 -0.56038 -0.074974  0.096481  \n",
       "\n",
       "[5 rows x 100 columns]"
      ]
     },
     "execution_count": 20,
     "metadata": {},
     "output_type": "execute_result"
    }
   ],
   "source": [
    "vector = pd.DataFrame(vec_list)\n",
    "print(vector.shape)\n",
    "len(set(text_tokens))\n",
    "vector.head()"
   ]
  },
  {
   "cell_type": "code",
   "execution_count": 21,
   "id": "green-antarctica",
   "metadata": {
    "scrolled": true
   },
   "outputs": [
    {
     "data": {
      "text/plain": [
       "(100,)"
      ]
     },
     "execution_count": 21,
     "metadata": {},
     "output_type": "execute_result"
    }
   ],
   "source": [
    "vector.mean().values.shape"
   ]
  },
  {
   "cell_type": "code",
   "execution_count": 22,
   "id": "oriented-turtle",
   "metadata": {},
   "outputs": [],
   "source": [
    "def summary_to_vec(summary):\n",
    "    summary_tokens = word_tokenize(summary)\n",
    "    \n",
    "    vec_list = []\n",
    "    for word in set(summary_tokens):\n",
    "        try:\n",
    "            vec_list.append(model[word])\n",
    "        except:\n",
    "            pass\n",
    "    \n",
    "    vector = pd.DataFrame(vec_list).mean().values\n",
    "    \n",
    "    return vector"
   ]
  },
  {
   "cell_type": "markdown",
   "id": "modified-jason",
   "metadata": {},
   "source": [
    "### Test run on the first five summaries in the dataset:"
   ]
  },
  {
   "cell_type": "code",
   "execution_count": 23,
   "id": "approved-reply",
   "metadata": {
    "scrolled": false
   },
   "outputs": [
    {
     "data": {
      "text/html": [
       "<div>\n",
       "<style scoped>\n",
       "    .dataframe tbody tr th:only-of-type {\n",
       "        vertical-align: middle;\n",
       "    }\n",
       "\n",
       "    .dataframe tbody tr th {\n",
       "        vertical-align: top;\n",
       "    }\n",
       "\n",
       "    .dataframe thead th {\n",
       "        text-align: right;\n",
       "    }\n",
       "</style>\n",
       "<table border=\"1\" class=\"dataframe\">\n",
       "  <thead>\n",
       "    <tr style=\"text-align: right;\">\n",
       "      <th></th>\n",
       "      <th>title</th>\n",
       "      <th>author</th>\n",
       "      <th>rating</th>\n",
       "      <th>num_rating</th>\n",
       "      <th>review</th>\n",
       "      <th>page</th>\n",
       "      <th>year</th>\n",
       "      <th>publisher</th>\n",
       "      <th>summary</th>\n",
       "      <th>language</th>\n",
       "      <th>clean_summary</th>\n",
       "    </tr>\n",
       "  </thead>\n",
       "  <tbody>\n",
       "    <tr>\n",
       "      <th>0</th>\n",
       "      <td>The Diary of a Young Girl</td>\n",
       "      <td>Anne Frank</td>\n",
       "      <td>4.16</td>\n",
       "      <td>2887098</td>\n",
       "      <td>30439</td>\n",
       "      <td>283.0</td>\n",
       "      <td>July 1993</td>\n",
       "      <td>by Bantam</td>\n",
       "      <td>Discovered in the attic in which she spent the...</td>\n",
       "      <td>en</td>\n",
       "      <td>discovered in the attic in which she spent the...</td>\n",
       "    </tr>\n",
       "    <tr>\n",
       "      <th>1</th>\n",
       "      <td>Night</td>\n",
       "      <td>Elie Wiesel</td>\n",
       "      <td>4.34</td>\n",
       "      <td>1008920</td>\n",
       "      <td>30066</td>\n",
       "      <td>115.0</td>\n",
       "      <td>January 16th 2006</td>\n",
       "      <td>by Hill &amp; Wang</td>\n",
       "      <td>Born in the town of Sighet, Transylvania, Elie...</td>\n",
       "      <td>en</td>\n",
       "      <td>born in the town of sighet  transylvania  elie...</td>\n",
       "    </tr>\n",
       "    <tr>\n",
       "      <th>2</th>\n",
       "      <td>Being and Time</td>\n",
       "      <td>Martin Heidegger</td>\n",
       "      <td>4.03</td>\n",
       "      <td>20738</td>\n",
       "      <td>613</td>\n",
       "      <td>589.0</td>\n",
       "      <td>August 1st 1962</td>\n",
       "      <td>by Harper &amp; Row (NYC/Evanston)</td>\n",
       "      <td>One of the most important philosophical works ...</td>\n",
       "      <td>en</td>\n",
       "      <td>one of the most important philosophical works ...</td>\n",
       "    </tr>\n",
       "    <tr>\n",
       "      <th>3</th>\n",
       "      <td>Hiroshima</td>\n",
       "      <td>John Hersey</td>\n",
       "      <td>3.99</td>\n",
       "      <td>63589</td>\n",
       "      <td>3332</td>\n",
       "      <td>152.0</td>\n",
       "      <td>March 4th 1989</td>\n",
       "      <td>by Vintage</td>\n",
       "      <td>On August 6, 1945, Hiroshima was destroyed by ...</td>\n",
       "      <td>en</td>\n",
       "      <td>on august     hiroshima was destroyed by the f...</td>\n",
       "    </tr>\n",
       "    <tr>\n",
       "      <th>4</th>\n",
       "      <td>Into Thin Air: A Personal Account of the Mount...</td>\n",
       "      <td>Jon Krakauer</td>\n",
       "      <td>4.19</td>\n",
       "      <td>411855</td>\n",
       "      <td>14209</td>\n",
       "      <td>368.0</td>\n",
       "      <td>October 19th 1999</td>\n",
       "      <td>by Anchor Books</td>\n",
       "      <td>A bank of clouds was assembling on the not-so-...</td>\n",
       "      <td>en</td>\n",
       "      <td>a bank of clouds was assembling on the not so ...</td>\n",
       "    </tr>\n",
       "  </tbody>\n",
       "</table>\n",
       "</div>"
      ],
      "text/plain": [
       "                                               title            author  \\\n",
       "0                          The Diary of a Young Girl        Anne Frank   \n",
       "1                                              Night       Elie Wiesel   \n",
       "2                                     Being and Time  Martin Heidegger   \n",
       "3                                          Hiroshima       John Hersey   \n",
       "4  Into Thin Air: A Personal Account of the Mount...      Jon Krakauer   \n",
       "\n",
       "   rating  num_rating  review   page               year  \\\n",
       "0    4.16     2887098   30439  283.0          July 1993   \n",
       "1    4.34     1008920   30066  115.0  January 16th 2006   \n",
       "2    4.03       20738     613  589.0    August 1st 1962   \n",
       "3    3.99       63589    3332  152.0     March 4th 1989   \n",
       "4    4.19      411855   14209  368.0  October 19th 1999   \n",
       "\n",
       "                        publisher  \\\n",
       "0                       by Bantam   \n",
       "1                  by Hill & Wang   \n",
       "2  by Harper & Row (NYC/Evanston)   \n",
       "3                      by Vintage   \n",
       "4                 by Anchor Books   \n",
       "\n",
       "                                             summary language  \\\n",
       "0  Discovered in the attic in which she spent the...       en   \n",
       "1  Born in the town of Sighet, Transylvania, Elie...       en   \n",
       "2  One of the most important philosophical works ...       en   \n",
       "3  On August 6, 1945, Hiroshima was destroyed by ...       en   \n",
       "4  A bank of clouds was assembling on the not-so-...       en   \n",
       "\n",
       "                                       clean_summary  \n",
       "0  discovered in the attic in which she spent the...  \n",
       "1  born in the town of sighet  transylvania  elie...  \n",
       "2  one of the most important philosophical works ...  \n",
       "3  on august     hiroshima was destroyed by the f...  \n",
       "4  a bank of clouds was assembling on the not so ...  "
      ]
     },
     "execution_count": 23,
     "metadata": {},
     "output_type": "execute_result"
    }
   ],
   "source": [
    "testing = df.iloc[:5, :]\n",
    "testing"
   ]
  },
  {
   "cell_type": "code",
   "execution_count": 24,
   "id": "considered-edmonton",
   "metadata": {},
   "outputs": [],
   "source": [
    "test_vec = testing[\"clean_summary\"].apply(summary_to_vec)"
   ]
  },
  {
   "cell_type": "code",
   "execution_count": 25,
   "id": "controlled-sacramento",
   "metadata": {},
   "outputs": [
    {
     "data": {
      "text/plain": [
       "0    [0.038194744210913144, 0.16574220679318294, 0....\n",
       "1    [0.004738605532206987, 0.13148283712124745, 0....\n",
       "2    [0.02417422465428158, 0.27134318957622683, 0.2...\n",
       "3    [0.03558845926697055, 0.22575195702827638, 0.3...\n",
       "4    [-0.15387485557169253, 0.13326480415915803, 0....\n",
       "Name: clean_summary, dtype: object"
      ]
     },
     "execution_count": 25,
     "metadata": {},
     "output_type": "execute_result"
    }
   ],
   "source": [
    "test_vec"
   ]
  },
  {
   "cell_type": "code",
   "execution_count": 26,
   "id": "moving-search",
   "metadata": {},
   "outputs": [
    {
     "data": {
      "text/html": [
       "<div>\n",
       "<style scoped>\n",
       "    .dataframe tbody tr th:only-of-type {\n",
       "        vertical-align: middle;\n",
       "    }\n",
       "\n",
       "    .dataframe tbody tr th {\n",
       "        vertical-align: top;\n",
       "    }\n",
       "\n",
       "    .dataframe thead th {\n",
       "        text-align: right;\n",
       "    }\n",
       "</style>\n",
       "<table border=\"1\" class=\"dataframe\">\n",
       "  <thead>\n",
       "    <tr style=\"text-align: right;\">\n",
       "      <th></th>\n",
       "      <th>0</th>\n",
       "      <th>1</th>\n",
       "      <th>2</th>\n",
       "      <th>3</th>\n",
       "      <th>4</th>\n",
       "      <th>5</th>\n",
       "      <th>6</th>\n",
       "      <th>7</th>\n",
       "      <th>8</th>\n",
       "      <th>9</th>\n",
       "      <th>...</th>\n",
       "      <th>90</th>\n",
       "      <th>91</th>\n",
       "      <th>92</th>\n",
       "      <th>93</th>\n",
       "      <th>94</th>\n",
       "      <th>95</th>\n",
       "      <th>96</th>\n",
       "      <th>97</th>\n",
       "      <th>98</th>\n",
       "      <th>99</th>\n",
       "    </tr>\n",
       "  </thead>\n",
       "  <tbody>\n",
       "    <tr>\n",
       "      <th>0</th>\n",
       "      <td>0.038195</td>\n",
       "      <td>0.165742</td>\n",
       "      <td>0.239174</td>\n",
       "      <td>-0.081145</td>\n",
       "      <td>0.091722</td>\n",
       "      <td>0.343272</td>\n",
       "      <td>-0.072842</td>\n",
       "      <td>0.073836</td>\n",
       "      <td>-0.133167</td>\n",
       "      <td>-0.000711</td>\n",
       "      <td>...</td>\n",
       "      <td>0.037539</td>\n",
       "      <td>-0.098173</td>\n",
       "      <td>0.177957</td>\n",
       "      <td>0.167618</td>\n",
       "      <td>-0.395010</td>\n",
       "      <td>-0.077507</td>\n",
       "      <td>-0.265494</td>\n",
       "      <td>-0.257717</td>\n",
       "      <td>0.251396</td>\n",
       "      <td>0.083167</td>\n",
       "    </tr>\n",
       "    <tr>\n",
       "      <th>1</th>\n",
       "      <td>0.004739</td>\n",
       "      <td>0.131483</td>\n",
       "      <td>0.335465</td>\n",
       "      <td>-0.128207</td>\n",
       "      <td>-0.041416</td>\n",
       "      <td>0.312529</td>\n",
       "      <td>-0.074139</td>\n",
       "      <td>0.032846</td>\n",
       "      <td>-0.047191</td>\n",
       "      <td>-0.001244</td>\n",
       "      <td>...</td>\n",
       "      <td>0.006807</td>\n",
       "      <td>-0.191467</td>\n",
       "      <td>0.119058</td>\n",
       "      <td>0.282839</td>\n",
       "      <td>-0.356364</td>\n",
       "      <td>-0.070478</td>\n",
       "      <td>-0.160852</td>\n",
       "      <td>-0.210872</td>\n",
       "      <td>0.211644</td>\n",
       "      <td>0.153055</td>\n",
       "    </tr>\n",
       "    <tr>\n",
       "      <th>2</th>\n",
       "      <td>0.024174</td>\n",
       "      <td>0.271343</td>\n",
       "      <td>0.223210</td>\n",
       "      <td>0.126000</td>\n",
       "      <td>0.215483</td>\n",
       "      <td>0.050019</td>\n",
       "      <td>-0.091706</td>\n",
       "      <td>-0.163766</td>\n",
       "      <td>-0.210250</td>\n",
       "      <td>0.126965</td>\n",
       "      <td>...</td>\n",
       "      <td>0.026426</td>\n",
       "      <td>-0.152177</td>\n",
       "      <td>-0.049088</td>\n",
       "      <td>0.203424</td>\n",
       "      <td>-0.336644</td>\n",
       "      <td>-0.007375</td>\n",
       "      <td>-0.385197</td>\n",
       "      <td>-0.650391</td>\n",
       "      <td>0.500218</td>\n",
       "      <td>0.493626</td>\n",
       "    </tr>\n",
       "  </tbody>\n",
       "</table>\n",
       "<p>3 rows × 100 columns</p>\n",
       "</div>"
      ],
      "text/plain": [
       "         0         1         2         3         4         5         6   \\\n",
       "0  0.038195  0.165742  0.239174 -0.081145  0.091722  0.343272 -0.072842   \n",
       "1  0.004739  0.131483  0.335465 -0.128207 -0.041416  0.312529 -0.074139   \n",
       "2  0.024174  0.271343  0.223210  0.126000  0.215483  0.050019 -0.091706   \n",
       "\n",
       "         7         8         9   ...        90        91        92        93  \\\n",
       "0  0.073836 -0.133167 -0.000711  ...  0.037539 -0.098173  0.177957  0.167618   \n",
       "1  0.032846 -0.047191 -0.001244  ...  0.006807 -0.191467  0.119058  0.282839   \n",
       "2 -0.163766 -0.210250  0.126965  ...  0.026426 -0.152177 -0.049088  0.203424   \n",
       "\n",
       "         94        95        96        97        98        99  \n",
       "0 -0.395010 -0.077507 -0.265494 -0.257717  0.251396  0.083167  \n",
       "1 -0.356364 -0.070478 -0.160852 -0.210872  0.211644  0.153055  \n",
       "2 -0.336644 -0.007375 -0.385197 -0.650391  0.500218  0.493626  \n",
       "\n",
       "[3 rows x 100 columns]"
      ]
     },
     "execution_count": 26,
     "metadata": {},
     "output_type": "execute_result"
    }
   ],
   "source": [
    "df_test = pd.DataFrame([x for x in test_vec])\n",
    "df_test.head(3)"
   ]
  },
  {
   "cell_type": "code",
   "execution_count": 27,
   "id": "detailed-rocket",
   "metadata": {},
   "outputs": [
    {
     "name": "stdout",
     "output_type": "stream",
     "text": [
      "20.68734312057495\n"
     ]
    }
   ],
   "source": [
    "start = time.time()\n",
    "summary_vec = df[\"clean_summary\"].apply(summary_to_vec)\n",
    "print(time.time() - start)"
   ]
  },
  {
   "cell_type": "code",
   "execution_count": 28,
   "id": "subjective-cambodia",
   "metadata": {},
   "outputs": [
    {
     "data": {
      "text/html": [
       "<div>\n",
       "<style scoped>\n",
       "    .dataframe tbody tr th:only-of-type {\n",
       "        vertical-align: middle;\n",
       "    }\n",
       "\n",
       "    .dataframe tbody tr th {\n",
       "        vertical-align: top;\n",
       "    }\n",
       "\n",
       "    .dataframe thead th {\n",
       "        text-align: right;\n",
       "    }\n",
       "</style>\n",
       "<table border=\"1\" class=\"dataframe\">\n",
       "  <thead>\n",
       "    <tr style=\"text-align: right;\">\n",
       "      <th></th>\n",
       "      <th>0</th>\n",
       "      <th>1</th>\n",
       "      <th>2</th>\n",
       "      <th>3</th>\n",
       "      <th>4</th>\n",
       "      <th>5</th>\n",
       "      <th>6</th>\n",
       "      <th>7</th>\n",
       "      <th>8</th>\n",
       "      <th>9</th>\n",
       "      <th>...</th>\n",
       "      <th>90</th>\n",
       "      <th>91</th>\n",
       "      <th>92</th>\n",
       "      <th>93</th>\n",
       "      <th>94</th>\n",
       "      <th>95</th>\n",
       "      <th>96</th>\n",
       "      <th>97</th>\n",
       "      <th>98</th>\n",
       "      <th>99</th>\n",
       "    </tr>\n",
       "    <tr>\n",
       "      <th>title</th>\n",
       "      <th></th>\n",
       "      <th></th>\n",
       "      <th></th>\n",
       "      <th></th>\n",
       "      <th></th>\n",
       "      <th></th>\n",
       "      <th></th>\n",
       "      <th></th>\n",
       "      <th></th>\n",
       "      <th></th>\n",
       "      <th></th>\n",
       "      <th></th>\n",
       "      <th></th>\n",
       "      <th></th>\n",
       "      <th></th>\n",
       "      <th></th>\n",
       "      <th></th>\n",
       "      <th></th>\n",
       "      <th></th>\n",
       "      <th></th>\n",
       "      <th></th>\n",
       "    </tr>\n",
       "  </thead>\n",
       "  <tbody>\n",
       "    <tr>\n",
       "      <th>the diary of a young girl</th>\n",
       "      <td>0.038195</td>\n",
       "      <td>0.165742</td>\n",
       "      <td>0.239174</td>\n",
       "      <td>-0.081145</td>\n",
       "      <td>0.091722</td>\n",
       "      <td>0.343272</td>\n",
       "      <td>-0.072842</td>\n",
       "      <td>0.073836</td>\n",
       "      <td>-0.133167</td>\n",
       "      <td>-0.000711</td>\n",
       "      <td>...</td>\n",
       "      <td>0.037539</td>\n",
       "      <td>-0.098173</td>\n",
       "      <td>0.177957</td>\n",
       "      <td>0.167618</td>\n",
       "      <td>-0.395010</td>\n",
       "      <td>-0.077507</td>\n",
       "      <td>-0.265494</td>\n",
       "      <td>-0.257717</td>\n",
       "      <td>0.251396</td>\n",
       "      <td>0.083167</td>\n",
       "    </tr>\n",
       "    <tr>\n",
       "      <th>night</th>\n",
       "      <td>0.004739</td>\n",
       "      <td>0.131483</td>\n",
       "      <td>0.335465</td>\n",
       "      <td>-0.128207</td>\n",
       "      <td>-0.041416</td>\n",
       "      <td>0.312529</td>\n",
       "      <td>-0.074139</td>\n",
       "      <td>0.032846</td>\n",
       "      <td>-0.047191</td>\n",
       "      <td>-0.001244</td>\n",
       "      <td>...</td>\n",
       "      <td>0.006807</td>\n",
       "      <td>-0.191467</td>\n",
       "      <td>0.119058</td>\n",
       "      <td>0.282839</td>\n",
       "      <td>-0.356364</td>\n",
       "      <td>-0.070478</td>\n",
       "      <td>-0.160852</td>\n",
       "      <td>-0.210872</td>\n",
       "      <td>0.211644</td>\n",
       "      <td>0.153055</td>\n",
       "    </tr>\n",
       "    <tr>\n",
       "      <th>being and time</th>\n",
       "      <td>0.024174</td>\n",
       "      <td>0.271343</td>\n",
       "      <td>0.223210</td>\n",
       "      <td>0.126000</td>\n",
       "      <td>0.215483</td>\n",
       "      <td>0.050019</td>\n",
       "      <td>-0.091706</td>\n",
       "      <td>-0.163766</td>\n",
       "      <td>-0.210250</td>\n",
       "      <td>0.126965</td>\n",
       "      <td>...</td>\n",
       "      <td>0.026426</td>\n",
       "      <td>-0.152177</td>\n",
       "      <td>-0.049088</td>\n",
       "      <td>0.203424</td>\n",
       "      <td>-0.336644</td>\n",
       "      <td>-0.007375</td>\n",
       "      <td>-0.385197</td>\n",
       "      <td>-0.650391</td>\n",
       "      <td>0.500218</td>\n",
       "      <td>0.493626</td>\n",
       "    </tr>\n",
       "    <tr>\n",
       "      <th>hiroshima</th>\n",
       "      <td>0.035588</td>\n",
       "      <td>0.225752</td>\n",
       "      <td>0.315681</td>\n",
       "      <td>-0.205804</td>\n",
       "      <td>0.143229</td>\n",
       "      <td>0.275597</td>\n",
       "      <td>0.013882</td>\n",
       "      <td>0.067247</td>\n",
       "      <td>-0.110689</td>\n",
       "      <td>0.026850</td>\n",
       "      <td>...</td>\n",
       "      <td>0.135745</td>\n",
       "      <td>-0.065490</td>\n",
       "      <td>-0.018061</td>\n",
       "      <td>0.238033</td>\n",
       "      <td>-0.446372</td>\n",
       "      <td>-0.010015</td>\n",
       "      <td>-0.199773</td>\n",
       "      <td>-0.255136</td>\n",
       "      <td>0.303791</td>\n",
       "      <td>0.199382</td>\n",
       "    </tr>\n",
       "    <tr>\n",
       "      <th>into thin air: a personal account of the mount everest disaster</th>\n",
       "      <td>-0.153875</td>\n",
       "      <td>0.133265</td>\n",
       "      <td>0.277531</td>\n",
       "      <td>-0.147089</td>\n",
       "      <td>0.068443</td>\n",
       "      <td>0.059131</td>\n",
       "      <td>-0.043173</td>\n",
       "      <td>0.090621</td>\n",
       "      <td>-0.161049</td>\n",
       "      <td>0.039488</td>\n",
       "      <td>...</td>\n",
       "      <td>0.053869</td>\n",
       "      <td>-0.097443</td>\n",
       "      <td>-0.123923</td>\n",
       "      <td>0.101220</td>\n",
       "      <td>-0.309871</td>\n",
       "      <td>0.018557</td>\n",
       "      <td>-0.157136</td>\n",
       "      <td>-0.178449</td>\n",
       "      <td>0.356175</td>\n",
       "      <td>0.092564</td>\n",
       "    </tr>\n",
       "  </tbody>\n",
       "</table>\n",
       "<p>5 rows × 100 columns</p>\n",
       "</div>"
      ],
      "text/plain": [
       "                                                          0         1   \\\n",
       "title                                                                    \n",
       "the diary of a young girl                           0.038195  0.165742   \n",
       "night                                               0.004739  0.131483   \n",
       "being and time                                      0.024174  0.271343   \n",
       "hiroshima                                           0.035588  0.225752   \n",
       "into thin air: a personal account of the mount ... -0.153875  0.133265   \n",
       "\n",
       "                                                          2         3   \\\n",
       "title                                                                    \n",
       "the diary of a young girl                           0.239174 -0.081145   \n",
       "night                                               0.335465 -0.128207   \n",
       "being and time                                      0.223210  0.126000   \n",
       "hiroshima                                           0.315681 -0.205804   \n",
       "into thin air: a personal account of the mount ...  0.277531 -0.147089   \n",
       "\n",
       "                                                          4         5   \\\n",
       "title                                                                    \n",
       "the diary of a young girl                           0.091722  0.343272   \n",
       "night                                              -0.041416  0.312529   \n",
       "being and time                                      0.215483  0.050019   \n",
       "hiroshima                                           0.143229  0.275597   \n",
       "into thin air: a personal account of the mount ...  0.068443  0.059131   \n",
       "\n",
       "                                                          6         7   \\\n",
       "title                                                                    \n",
       "the diary of a young girl                          -0.072842  0.073836   \n",
       "night                                              -0.074139  0.032846   \n",
       "being and time                                     -0.091706 -0.163766   \n",
       "hiroshima                                           0.013882  0.067247   \n",
       "into thin air: a personal account of the mount ... -0.043173  0.090621   \n",
       "\n",
       "                                                          8         9   ...  \\\n",
       "title                                                                   ...   \n",
       "the diary of a young girl                          -0.133167 -0.000711  ...   \n",
       "night                                              -0.047191 -0.001244  ...   \n",
       "being and time                                     -0.210250  0.126965  ...   \n",
       "hiroshima                                          -0.110689  0.026850  ...   \n",
       "into thin air: a personal account of the mount ... -0.161049  0.039488  ...   \n",
       "\n",
       "                                                          90        91  \\\n",
       "title                                                                    \n",
       "the diary of a young girl                           0.037539 -0.098173   \n",
       "night                                               0.006807 -0.191467   \n",
       "being and time                                      0.026426 -0.152177   \n",
       "hiroshima                                           0.135745 -0.065490   \n",
       "into thin air: a personal account of the mount ...  0.053869 -0.097443   \n",
       "\n",
       "                                                          92        93  \\\n",
       "title                                                                    \n",
       "the diary of a young girl                           0.177957  0.167618   \n",
       "night                                               0.119058  0.282839   \n",
       "being and time                                     -0.049088  0.203424   \n",
       "hiroshima                                          -0.018061  0.238033   \n",
       "into thin air: a personal account of the mount ... -0.123923  0.101220   \n",
       "\n",
       "                                                          94        95  \\\n",
       "title                                                                    \n",
       "the diary of a young girl                          -0.395010 -0.077507   \n",
       "night                                              -0.356364 -0.070478   \n",
       "being and time                                     -0.336644 -0.007375   \n",
       "hiroshima                                          -0.446372 -0.010015   \n",
       "into thin air: a personal account of the mount ... -0.309871  0.018557   \n",
       "\n",
       "                                                          96        97  \\\n",
       "title                                                                    \n",
       "the diary of a young girl                          -0.265494 -0.257717   \n",
       "night                                              -0.160852 -0.210872   \n",
       "being and time                                     -0.385197 -0.650391   \n",
       "hiroshima                                          -0.199773 -0.255136   \n",
       "into thin air: a personal account of the mount ... -0.157136 -0.178449   \n",
       "\n",
       "                                                          98        99  \n",
       "title                                                                   \n",
       "the diary of a young girl                           0.251396  0.083167  \n",
       "night                                               0.211644  0.153055  \n",
       "being and time                                      0.500218  0.493626  \n",
       "hiroshima                                           0.303791  0.199382  \n",
       "into thin air: a personal account of the mount ...  0.356175  0.092564  \n",
       "\n",
       "[5 rows x 100 columns]"
      ]
     },
     "execution_count": 28,
     "metadata": {},
     "output_type": "execute_result"
    }
   ],
   "source": [
    "df_vec = pd.DataFrame([x for x in summary_vec], index = df_rec.index)\n",
    "df_vec.head()"
   ]
  },
  {
   "cell_type": "code",
   "execution_count": 29,
   "id": "treated-civilization",
   "metadata": {},
   "outputs": [
    {
     "data": {
      "text/plain": [
       "0     0.024174\n",
       "1     0.271343\n",
       "2     0.223210\n",
       "3     0.126000\n",
       "4     0.215483\n",
       "        ...   \n",
       "95   -0.007375\n",
       "96   -0.385197\n",
       "97   -0.650391\n",
       "98    0.500218\n",
       "99    0.493626\n",
       "Name: being and time, Length: 100, dtype: float64"
      ]
     },
     "execution_count": 29,
     "metadata": {},
     "output_type": "execute_result"
    }
   ],
   "source": [
    "# check vector for a particular book\n",
    "df_vec.loc['being and time']"
   ]
  },
  {
   "cell_type": "code",
   "execution_count": 30,
   "id": "awful-great",
   "metadata": {},
   "outputs": [],
   "source": [
    "def recommend2(title):\n",
    "    title = title.lower()\n",
    "    ind = pairwise_distances(df_vec.loc[title].values.reshape(1,-1), df_vec, metric='cosine').argsort()[0][:6]\n",
    "    return df_vec.index[ind]"
   ]
  },
  {
   "cell_type": "code",
   "execution_count": 31,
   "id": "generous-taste",
   "metadata": {
    "scrolled": true
   },
   "outputs": [
    {
     "data": {
      "text/plain": [
       "Index(['being and time', 'poetry, language, thought', 'saussure for beginners',\n",
       "       'the fundamental concepts of metaphysics: world, finitude, solitude',\n",
       "       'the republic',\n",
       "       'no turning back: the history of feminism and the future of women'],\n",
       "      dtype='object', name='title')"
      ]
     },
     "execution_count": 31,
     "metadata": {},
     "output_type": "execute_result"
    }
   ],
   "source": [
    "recommend2(\"being and time\")"
   ]
  },
  {
   "cell_type": "code",
   "execution_count": 32,
   "id": "genuine-treaty",
   "metadata": {},
   "outputs": [],
   "source": [
    "# make title column in df lower case to pull out summary\n",
    "df[\"title\"] = df[\"title\"].apply(lambda x: x.lower())"
   ]
  },
  {
   "cell_type": "code",
   "execution_count": null,
   "id": "future-sarah",
   "metadata": {},
   "outputs": [],
   "source": [
    "# mask = (df.title == \"being and time\") |\\\n",
    "#        (df.title == \"poetry, language, thought\")|\\\n",
    "#        (df.title == \"the spanish civil war: a very short introduction\")\n",
    "# df[mask]\n",
    "# for i in df.loc[mask, \"summary\"]:\n",
    "#     print(\"Summary: \", i, \"\\n\")"
   ]
  },
  {
   "cell_type": "code",
   "execution_count": 33,
   "id": "exceptional-stanford",
   "metadata": {
    "scrolled": false
   },
   "outputs": [
    {
     "data": {
      "text/plain": [
       "Index(['being mortal: medicine and what matters in the end',\n",
       "       'dr. fred's healthcare rescue: the real solution to healthcare',\n",
       "       'unaccountable: what hospitals won't tell you and how transparency can revolutionize health care',\n",
       "       'what to do when you have heart disease',\n",
       "       'the checklist manifesto: how to get things right',\n",
       "       'the lukin longevity system: the guide to staying younger, longer'],\n",
       "      dtype='object', name='title')"
      ]
     },
     "execution_count": 33,
     "metadata": {},
     "output_type": "execute_result"
    }
   ],
   "source": [
    "recommend2(\"Being Mortal: Medicine and What Matters in the End\")"
   ]
  },
  {
   "cell_type": "code",
   "execution_count": null,
   "id": "absolute-confirmation",
   "metadata": {},
   "outputs": [],
   "source": [
    "# mask = (df.title == \"what to do when you have heart disease\")|\\\n",
    "#        (df.title == \"being mortal: medicine and what matters in the end\") |\\\n",
    "#        (df.title == \"dr. fred's healthcare rescue: the real solution to healthcare\")\n",
    "# df[mask]\n",
    "# for i in df.loc[mask, \"summary\"]:\n",
    "#     print(\"Summary: \", i, \"\\n\")"
   ]
  },
  {
   "cell_type": "code",
   "execution_count": 34,
   "id": "changed-service",
   "metadata": {
    "scrolled": true
   },
   "outputs": [
    {
     "data": {
      "text/plain": [
       "Index(['the tipping point: how little things can make a big difference',\n",
       "       'invisible women: data bias in a world designed for men',\n",
       "       'the spirit level: why more equal societies almost always do better',\n",
       "       'the e-myth revisited: why most small businesses don't work and what to do about it',\n",
       "       'the undercover economist',\n",
       "       'think: straight talk for women to stay smart in a dumbed-down world'],\n",
       "      dtype='object', name='title')"
      ]
     },
     "execution_count": 34,
     "metadata": {},
     "output_type": "execute_result"
    }
   ],
   "source": [
    "recommend2(\"The Tipping Point: How Little Things Can Make a Big Difference\")"
   ]
  },
  {
   "cell_type": "code",
   "execution_count": null,
   "id": "engaging-greenhouse",
   "metadata": {},
   "outputs": [],
   "source": [
    "# mask = (df.title == \"the tipping point: how little things can make a big difference\")|\\\n",
    "#        (df.title == \"invisible women: data bias in a world designed for men\") |\\\n",
    "#        (df.title == \"the undercover economist\")\n",
    "# df[mask]\n",
    "# for i in df.loc[mask, \"summary\"]:\n",
    "#     print(\"Summary: \", i, \"\\n\")"
   ]
  },
  {
   "cell_type": "markdown",
   "id": "illegal-structure",
   "metadata": {},
   "source": [
    "### ^ Recommendation might be better than topic vectors??\n",
    "### Trying out the 300d vectors:"
   ]
  },
  {
   "cell_type": "code",
   "execution_count": 35,
   "id": "applied-footwear",
   "metadata": {},
   "outputs": [],
   "source": [
    "glove_file2 = datapath(\"/Users/sarazzzz/Downloads/glove/glove.6B.300d.txt\")\n",
    "tmp_file2 = get_tmpfile(\"glove_word2vec.txt\")\n",
    "\n",
    "glove2word2vec(glove_file2, tmp_file2)\n",
    "model = gensim.models.KeyedVectors.load_word2vec_format(tmp_file2)"
   ]
  },
  {
   "cell_type": "code",
   "execution_count": 36,
   "id": "decreased-institution",
   "metadata": {},
   "outputs": [
    {
     "name": "stdout",
     "output_type": "stream",
     "text": [
      "0.70856035\n",
      "0.40601766\n"
     ]
    }
   ],
   "source": [
    "# testing, comparing via cosine similarity\n",
    "print(model.similarity('obama', 'clinton'))\n",
    "print(model.similarity('obama', 'reagan'))"
   ]
  },
  {
   "cell_type": "code",
   "execution_count": 37,
   "id": "gross-essence",
   "metadata": {},
   "outputs": [
    {
     "name": "stdout",
     "output_type": "stream",
     "text": [
      "['discovered', 'in', 'the', 'attic', 'in', 'which', 'she', 'spent', 'the', 'last', 'years', 'of', 'her', 'life', 'anne', 'franks', 'remarkable', 'diary', 'has', 'become', 'a', 'world', 'classic', 'a', 'powerful', 'reminder', 'of', 'the', 'horrors', 'of', 'war', 'and', 'an', 'eloquent', 'testament', 'to', 'the', 'human', 'spirit', 'in', 'with', 'the', 'nazis', 'occupying', 'holland', 'a', 'thirteen', 'year', 'old', 'jewish', 'girl', 'and', 'her', 'family', 'fled', 'their', 'home', 'in', 'amsterdam', 'and', 'went', 'into', 'hiding', 'for', 'the', 'next', 'two', 'years', 'until', 'their', 'whereabouts', 'were', 'betrayed', 'to', 'the', 'gestapo', 'the', 'franks', 'and', 'another', 'family', 'lived', 'cloistered', 'in', 'the', 'secret', 'annexe', 'of', 'an', 'old', 'office', 'building', 'cut', 'off', 'from', 'the', 'outside', 'world', 'they', 'faced', 'hunger', 'boredom', 'the', 'constant', 'cruelties', 'of', 'living', 'in', 'confined', 'quarters', 'and', 'the', 'ever', 'present', 'threat', 'of', 'discovery', 'and', 'death', 'in', 'her', 'diary', 'anne', 'frank', 'recorded', 'vivid', 'impressions', 'of', 'her', 'experiences', 'during', 'this', 'period', 'by', 'turns', 'thoughtful', 'moving', 'and', 'surprisingly', 'humorous', 'her', 'account', 'offers', 'a', 'fascinating', 'commentary', 'on', 'human', 'courage', 'and', 'frailty', 'and', 'a', 'compelling', 'self', 'portrait', 'of', 'a', 'sensitive', 'and', 'spirited', 'young', 'woman', 'whose', 'promise', 'was', 'tragically', 'cut', 'short', 'back', 'cover']\n"
     ]
    }
   ],
   "source": [
    "text = df.iloc[0, -1]\n",
    "text_tokens = word_tokenize(text)\n",
    "print(text_tokens)"
   ]
  },
  {
   "cell_type": "code",
   "execution_count": 38,
   "id": "dietary-beauty",
   "metadata": {},
   "outputs": [],
   "source": [
    "vec_list = []\n",
    "for word in set(text_tokens):\n",
    "    try:\n",
    "        vec_list.append(model[word])\n",
    "    except:\n",
    "        print(word)"
   ]
  },
  {
   "cell_type": "code",
   "execution_count": 39,
   "id": "unavailable-monkey",
   "metadata": {
    "scrolled": true
   },
   "outputs": [
    {
     "name": "stdout",
     "output_type": "stream",
     "text": [
      "(117, 300)\n"
     ]
    },
    {
     "data": {
      "text/plain": [
       "117"
      ]
     },
     "execution_count": 39,
     "metadata": {},
     "output_type": "execute_result"
    }
   ],
   "source": [
    "vector = pd.DataFrame(vec_list)\n",
    "print(vector.shape)\n",
    "len(set(text_tokens))"
   ]
  },
  {
   "cell_type": "code",
   "execution_count": 40,
   "id": "neither-oracle",
   "metadata": {},
   "outputs": [
    {
     "data": {
      "text/html": [
       "<div>\n",
       "<style scoped>\n",
       "    .dataframe tbody tr th:only-of-type {\n",
       "        vertical-align: middle;\n",
       "    }\n",
       "\n",
       "    .dataframe tbody tr th {\n",
       "        vertical-align: top;\n",
       "    }\n",
       "\n",
       "    .dataframe thead th {\n",
       "        text-align: right;\n",
       "    }\n",
       "</style>\n",
       "<table border=\"1\" class=\"dataframe\">\n",
       "  <thead>\n",
       "    <tr style=\"text-align: right;\">\n",
       "      <th></th>\n",
       "      <th>title</th>\n",
       "      <th>author</th>\n",
       "      <th>rating</th>\n",
       "      <th>num_rating</th>\n",
       "      <th>review</th>\n",
       "      <th>page</th>\n",
       "      <th>year</th>\n",
       "      <th>publisher</th>\n",
       "      <th>summary</th>\n",
       "      <th>language</th>\n",
       "      <th>clean_summary</th>\n",
       "    </tr>\n",
       "  </thead>\n",
       "  <tbody>\n",
       "    <tr>\n",
       "      <th>0</th>\n",
       "      <td>the diary of a young girl</td>\n",
       "      <td>Anne Frank</td>\n",
       "      <td>4.16</td>\n",
       "      <td>2887098</td>\n",
       "      <td>30439</td>\n",
       "      <td>283.0</td>\n",
       "      <td>July 1993</td>\n",
       "      <td>by Bantam</td>\n",
       "      <td>Discovered in the attic in which she spent the...</td>\n",
       "      <td>en</td>\n",
       "      <td>discovered in the attic in which she spent the...</td>\n",
       "    </tr>\n",
       "    <tr>\n",
       "      <th>1</th>\n",
       "      <td>night</td>\n",
       "      <td>Elie Wiesel</td>\n",
       "      <td>4.34</td>\n",
       "      <td>1008920</td>\n",
       "      <td>30066</td>\n",
       "      <td>115.0</td>\n",
       "      <td>January 16th 2006</td>\n",
       "      <td>by Hill &amp; Wang</td>\n",
       "      <td>Born in the town of Sighet, Transylvania, Elie...</td>\n",
       "      <td>en</td>\n",
       "      <td>born in the town of sighet  transylvania  elie...</td>\n",
       "    </tr>\n",
       "    <tr>\n",
       "      <th>2</th>\n",
       "      <td>being and time</td>\n",
       "      <td>Martin Heidegger</td>\n",
       "      <td>4.03</td>\n",
       "      <td>20738</td>\n",
       "      <td>613</td>\n",
       "      <td>589.0</td>\n",
       "      <td>August 1st 1962</td>\n",
       "      <td>by Harper &amp; Row (NYC/Evanston)</td>\n",
       "      <td>One of the most important philosophical works ...</td>\n",
       "      <td>en</td>\n",
       "      <td>one of the most important philosophical works ...</td>\n",
       "    </tr>\n",
       "  </tbody>\n",
       "</table>\n",
       "</div>"
      ],
      "text/plain": [
       "                       title            author  rating  num_rating  review  \\\n",
       "0  the diary of a young girl        Anne Frank    4.16     2887098   30439   \n",
       "1                      night       Elie Wiesel    4.34     1008920   30066   \n",
       "2             being and time  Martin Heidegger    4.03       20738     613   \n",
       "\n",
       "    page               year                       publisher  \\\n",
       "0  283.0          July 1993                       by Bantam   \n",
       "1  115.0  January 16th 2006                  by Hill & Wang   \n",
       "2  589.0    August 1st 1962  by Harper & Row (NYC/Evanston)   \n",
       "\n",
       "                                             summary language  \\\n",
       "0  Discovered in the attic in which she spent the...       en   \n",
       "1  Born in the town of Sighet, Transylvania, Elie...       en   \n",
       "2  One of the most important philosophical works ...       en   \n",
       "\n",
       "                                       clean_summary  \n",
       "0  discovered in the attic in which she spent the...  \n",
       "1  born in the town of sighet  transylvania  elie...  \n",
       "2  one of the most important philosophical works ...  "
      ]
     },
     "execution_count": 40,
     "metadata": {},
     "output_type": "execute_result"
    }
   ],
   "source": [
    "df.head(3)"
   ]
  },
  {
   "cell_type": "code",
   "execution_count": 41,
   "id": "understanding-increase",
   "metadata": {},
   "outputs": [
    {
     "name": "stdout",
     "output_type": "stream",
     "text": [
      "56.78019309043884\n"
     ]
    }
   ],
   "source": [
    "start = time.time()\n",
    "summary_vec = df[\"clean_summary\"].apply(summary_to_vec)\n",
    "print(time.time() - start)"
   ]
  },
  {
   "cell_type": "code",
   "execution_count": 42,
   "id": "super-broadway",
   "metadata": {},
   "outputs": [
    {
     "data": {
      "text/plain": [
       "(3017, 300)"
      ]
     },
     "execution_count": 42,
     "metadata": {},
     "output_type": "execute_result"
    }
   ],
   "source": [
    "df_vec300 = pd.DataFrame([x for x in summary_vec], index = df_rec.index)\n",
    "df_vec300.shape"
   ]
  },
  {
   "cell_type": "code",
   "execution_count": 43,
   "id": "french-indianapolis",
   "metadata": {},
   "outputs": [],
   "source": [
    "df_vec300.to_pickle(\"GloVe_embedding_for_rec.pkl\")"
   ]
  },
  {
   "cell_type": "code",
   "execution_count": 44,
   "id": "warming-knight",
   "metadata": {},
   "outputs": [],
   "source": [
    "df_rec = pd.read_pickle(\"data/GloVe_embedding_for_recommendation.pkl\")"
   ]
  },
  {
   "cell_type": "markdown",
   "id": "latin-thumb",
   "metadata": {},
   "source": [
    "### Recommender modified for streamlit:"
   ]
  },
  {
   "cell_type": "code",
   "execution_count": 45,
   "id": "violent-seminar",
   "metadata": {},
   "outputs": [],
   "source": [
    "def recommend3(title):\n",
    "    title = title.lower()\n",
    "    ind = pairwise_distances(df_rec.loc[title].values.reshape(1,-1), df_rec, metric='cosine').argsort()[0][1:4]\n",
    "#     books = df_rec.index[ind]\n",
    "    \n",
    "#     titles = []\n",
    "#     ratings = []\n",
    "#     summaries = []\n",
    "#     for i in books:\n",
    "#         titles.append(i)\n",
    "        \n",
    "#         rating = df.loc[df[\"title\"] == i, \"rating\"].values\n",
    "#         ratings.append(rating)\n",
    "        \n",
    "#         summary = df.loc[df[\"title\"] == i, \"summary\"].values\n",
    "#         summaries.append(summary)\n",
    "    \n",
    "#     results = pd.DataFrame(zip(titles, ratings, summaries))\n",
    "#     return(results)\n",
    "    return df_rec.index[ind]"
   ]
  },
  {
   "cell_type": "code",
   "execution_count": 46,
   "id": "brutal-virtue",
   "metadata": {},
   "outputs": [
    {
     "data": {
      "text/plain": [
       "'okay'"
      ]
     },
     "execution_count": 46,
     "metadata": {},
     "output_type": "execute_result"
    }
   ],
   "source": [
    "string = \"okay\"\n",
    "string.lower()"
   ]
  },
  {
   "cell_type": "code",
   "execution_count": 47,
   "id": "illegal-portsmouth",
   "metadata": {
    "scrolled": false
   },
   "outputs": [
    {
     "data": {
      "text/plain": [
       "Index(['switch: how to change things when change is hard',\n",
       "       'self-publishing in the eye of the storm',\n",
       "       'ten years a nomad: a traveler's journey home'],\n",
       "      dtype='object', name='title')"
      ]
     },
     "execution_count": 47,
     "metadata": {},
     "output_type": "execute_result"
    }
   ],
   "source": [
    "recommend3(\"Quiet: The Power Of Introverts In A World That Can'T Stop Talking\")"
   ]
  },
  {
   "cell_type": "code",
   "execution_count": 48,
   "id": "interpreted-gamma",
   "metadata": {},
   "outputs": [
    {
     "data": {
      "text/plain": [
       "Index(['lessons from a cf cornerman: 38 lessons i learned during my wife's illness and lung transplant',\n",
       "       'our time to dance, a mother's journey to joy', 'emerging butterfly'],\n",
       "      dtype='object', name='title')"
      ]
     },
     "execution_count": 48,
     "metadata": {},
     "output_type": "execute_result"
    }
   ],
   "source": [
    "recommend3(\"when breath becomes air\")"
   ]
  },
  {
   "cell_type": "code",
   "execution_count": 49,
   "id": "proud-purple",
   "metadata": {},
   "outputs": [
    {
     "data": {
      "text/plain": [
       "Index(['faith: a journey for all',\n",
       "       'i don't want to lose hope: one life's journey, fight and triumph!',\n",
       "       'what unites us: reflections on patriotism'],\n",
       "      dtype='object', name='title')"
      ]
     },
     "execution_count": 49,
     "metadata": {},
     "output_type": "execute_result"
    }
   ],
   "source": [
    "recommend3(\"man's search for meaning\")"
   ]
  },
  {
   "cell_type": "code",
   "execution_count": null,
   "id": "married-portsmouth",
   "metadata": {},
   "outputs": [],
   "source": [
    "# mask = (df.title == \"when breath becomes air\")|\\\n",
    "#        (df.title == \"lessons from a cf cornerman: 38 lessons i learned during my wife's illness and lung transplant\")|\\\n",
    "#        (df.title == \"our time to dance, a mother's journey to joy\") \n",
    "# df[mask]\n",
    "# for i in df.loc[mask, \"summary\"]:\n",
    "#     print(\"Summary: \", i, \"\\n\")"
   ]
  },
  {
   "cell_type": "code",
   "execution_count": 51,
   "id": "focal-trustee",
   "metadata": {},
   "outputs": [
    {
     "data": {
      "text/plain": [
       "Index(['dr. fred's healthcare rescue: the real solution to healthcare',\n",
       "       'unaccountable: what hospitals won't tell you and how transparency can revolutionize health care',\n",
       "       'the lukin longevity system: the guide to staying younger, longer'],\n",
       "      dtype='object', name='title')"
      ]
     },
     "execution_count": 51,
     "metadata": {},
     "output_type": "execute_result"
    }
   ],
   "source": [
    "recommend3(\"Being Mortal: Medicine and What Matters in the End\")"
   ]
  },
  {
   "cell_type": "code",
   "execution_count": 52,
   "id": "accompanied-massachusetts",
   "metadata": {},
   "outputs": [
    {
     "data": {
      "text/plain": [
       "Index(['invisible women: data bias in a world designed for men',\n",
       "       'the spirit level: why more equal societies almost always do better',\n",
       "       'think: straight talk for women to stay smart in a dumbed-down world'],\n",
       "      dtype='object', name='title')"
      ]
     },
     "execution_count": 52,
     "metadata": {},
     "output_type": "execute_result"
    }
   ],
   "source": [
    "recommend3(\"The Tipping Point: How Little Things Can Make a Big Difference\")"
   ]
  },
  {
   "cell_type": "code",
   "execution_count": null,
   "id": "designed-senior",
   "metadata": {},
   "outputs": [],
   "source": []
  }
 ],
 "metadata": {
  "kernelspec": {
   "display_name": "Python [conda env:metis]",
   "language": "python",
   "name": "conda-env-metis-py"
  },
  "language_info": {
   "codemirror_mode": {
    "name": "ipython",
    "version": 3
   },
   "file_extension": ".py",
   "mimetype": "text/x-python",
   "name": "python",
   "nbconvert_exporter": "python",
   "pygments_lexer": "ipython3",
   "version": "3.8.6"
  }
 },
 "nbformat": 4,
 "nbformat_minor": 5
}
